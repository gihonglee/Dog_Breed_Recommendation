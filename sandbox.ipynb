{
 "cells": [
  {
   "cell_type": "code",
   "execution_count": 38,
   "metadata": {},
   "outputs": [],
   "source": [
    "import numpy as np\n",
    "import pandas as pd\n",
    "import seaborn as sns\n",
    "import matplotlib.pyplot as plt"
   ]
  },
  {
   "cell_type": "code",
   "execution_count": 24,
   "metadata": {},
   "outputs": [
    {
     "data": {
      "text/html": [
       "<div>\n",
       "<style scoped>\n",
       "    .dataframe tbody tr th:only-of-type {\n",
       "        vertical-align: middle;\n",
       "    }\n",
       "\n",
       "    .dataframe tbody tr th {\n",
       "        vertical-align: top;\n",
       "    }\n",
       "\n",
       "    .dataframe thead th {\n",
       "        text-align: right;\n",
       "    }\n",
       "</style>\n",
       "<table border=\"1\" class=\"dataframe\">\n",
       "  <thead>\n",
       "    <tr style=\"text-align: right;\">\n",
       "      <th></th>\n",
       "      <th>Unnamed: 0</th>\n",
       "      <th>dog</th>\n",
       "      <th>height</th>\n",
       "      <th>weight</th>\n",
       "      <th>life</th>\n",
       "      <th>Affectionate With Family</th>\n",
       "      <th>Good With Young Children</th>\n",
       "      <th>Good With Other Dogs</th>\n",
       "      <th>Shedding Level</th>\n",
       "      <th>Coat Grooming Frequency</th>\n",
       "      <th>...</th>\n",
       "      <th>Barking Level</th>\n",
       "      <th>Mental Stimulation Needs</th>\n",
       "      <th>popularity_rank</th>\n",
       "      <th>color</th>\n",
       "      <th>marking</th>\n",
       "      <th>health</th>\n",
       "      <th>grooming</th>\n",
       "      <th>excercise</th>\n",
       "      <th>training</th>\n",
       "      <th>nutrition</th>\n",
       "    </tr>\n",
       "  </thead>\n",
       "  <tbody>\n",
       "    <tr>\n",
       "      <th>280</th>\n",
       "      <td>280</td>\n",
       "      <td>xoloitzcuintli</td>\n",
       "      <td>~10-14 inches (toy)~14-18 inches (miniature)~1...</td>\n",
       "      <td>~10-15 pounds (toy)~15-30 pounds (miniature)~3...</td>\n",
       "      <td>13-18 years</td>\n",
       "      <td>5</td>\n",
       "      <td>3</td>\n",
       "      <td>3</td>\n",
       "      <td>1</td>\n",
       "      <td>1</td>\n",
       "      <td>...</td>\n",
       "      <td>3</td>\n",
       "      <td>4</td>\n",
       "      <td>119 of 1</td>\n",
       "      <td>Black-Black &amp; White-Black White &amp; Tan-Brindle-...</td>\n",
       "      <td>Spotted-White Markings-Tan Markings-Black Mark...</td>\n",
       "      <td>Owning a dog is not just a privilege; it’s a r...</td>\n",
       "      <td>Xolos are generally healthy dogs, and responsi...</td>\n",
       "      <td>Coated Xolos have an easy-care short coat, req...</td>\n",
       "      <td>Xolos like long walks and upbeat play, but the...</td>\n",
       "      <td>Xolos need a consistent training regimen and c...</td>\n",
       "    </tr>\n",
       "    <tr>\n",
       "      <th>281</th>\n",
       "      <td>281</td>\n",
       "      <td>yakutian-laika</td>\n",
       "      <td>~21-23 inches</td>\n",
       "      <td>~40-55 pounds</td>\n",
       "      <td>10-12 years</td>\n",
       "      <td>5</td>\n",
       "      <td>5</td>\n",
       "      <td>4</td>\n",
       "      <td>4</td>\n",
       "      <td>2</td>\n",
       "      <td>...</td>\n",
       "      <td>4</td>\n",
       "      <td>5</td>\n",
       "      <td>NaN</td>\n",
       "      <td>Black &amp; White-Brown &amp; White-Gray &amp; White-White...</td>\n",
       "      <td>Black Markings-Tri-Colored-Buff Markings</td>\n",
       "      <td>Owning a dog is not just a privilege; it’s a r...</td>\n",
       "      <td>The Yakutian Laika is a hardy breed, and to ke...</td>\n",
       "      <td>The Yakutian Laika experiences seasonal sheddi...</td>\n",
       "      <td>The Yakutian Laika is a sled dog with a well-d...</td>\n",
       "      <td>Training the Yakutian Laika is a rather pleasa...</td>\n",
       "    </tr>\n",
       "    <tr>\n",
       "      <th>282</th>\n",
       "      <td>282</td>\n",
       "      <td>yorkshire-terrier</td>\n",
       "      <td>~7-8 inches</td>\n",
       "      <td>~7 pounds</td>\n",
       "      <td>11-15 years</td>\n",
       "      <td>5</td>\n",
       "      <td>5</td>\n",
       "      <td>3</td>\n",
       "      <td>1</td>\n",
       "      <td>5</td>\n",
       "      <td>...</td>\n",
       "      <td>4</td>\n",
       "      <td>4</td>\n",
       "      <td>13 of 1</td>\n",
       "      <td>Black &amp; Tan-Blue &amp; Gold-Blue &amp; Tan-Black &amp; Gold</td>\n",
       "      <td>NaN</td>\n",
       "      <td>Owning a dog is not just a privilege; it’s a r...</td>\n",
       "      <td>Yorkshire Terriers are generally healthy dogs,...</td>\n",
       "      <td>The Yorkshire Terrier's coat is very similar t...</td>\n",
       "      <td>Even small dogs require exercise to stay healt...</td>\n",
       "      <td>Yorkies love their owners, and are very intell...</td>\n",
       "    </tr>\n",
       "  </tbody>\n",
       "</table>\n",
       "<p>3 rows × 29 columns</p>\n",
       "</div>"
      ],
      "text/plain": [
       "     Unnamed: 0                dog  \\\n",
       "280         280     xoloitzcuintli   \n",
       "281         281     yakutian-laika   \n",
       "282         282  yorkshire-terrier   \n",
       "\n",
       "                                                height  \\\n",
       "280  ~10-14 inches (toy)~14-18 inches (miniature)~1...   \n",
       "281                                      ~21-23 inches   \n",
       "282                                        ~7-8 inches   \n",
       "\n",
       "                                                weight         life  \\\n",
       "280  ~10-15 pounds (toy)~15-30 pounds (miniature)~3...  13-18 years   \n",
       "281                                      ~40-55 pounds  10-12 years   \n",
       "282                                          ~7 pounds  11-15 years   \n",
       "\n",
       "     Affectionate With Family  Good With Young Children  Good With Other Dogs  \\\n",
       "280                         5                         3                     3   \n",
       "281                         5                         5                     4   \n",
       "282                         5                         5                     3   \n",
       "\n",
       "     Shedding Level  Coat Grooming Frequency  ...  Barking Level  \\\n",
       "280               1                        1  ...              3   \n",
       "281               4                        2  ...              4   \n",
       "282               1                        5  ...              4   \n",
       "\n",
       "    Mental Stimulation Needs popularity_rank  \\\n",
       "280                        4        119 of 1   \n",
       "281                        5             NaN   \n",
       "282                        4         13 of 1   \n",
       "\n",
       "                                                 color  \\\n",
       "280  Black-Black & White-Black White & Tan-Brindle-...   \n",
       "281  Black & White-Brown & White-Gray & White-White...   \n",
       "282    Black & Tan-Blue & Gold-Blue & Tan-Black & Gold   \n",
       "\n",
       "                                               marking  \\\n",
       "280  Spotted-White Markings-Tan Markings-Black Mark...   \n",
       "281           Black Markings-Tri-Colored-Buff Markings   \n",
       "282                                                NaN   \n",
       "\n",
       "                                                health  \\\n",
       "280  Owning a dog is not just a privilege; it’s a r...   \n",
       "281  Owning a dog is not just a privilege; it’s a r...   \n",
       "282  Owning a dog is not just a privilege; it’s a r...   \n",
       "\n",
       "                                              grooming  \\\n",
       "280  Xolos are generally healthy dogs, and responsi...   \n",
       "281  The Yakutian Laika is a hardy breed, and to ke...   \n",
       "282  Yorkshire Terriers are generally healthy dogs,...   \n",
       "\n",
       "                                             excercise  \\\n",
       "280  Coated Xolos have an easy-care short coat, req...   \n",
       "281  The Yakutian Laika experiences seasonal sheddi...   \n",
       "282  The Yorkshire Terrier's coat is very similar t...   \n",
       "\n",
       "                                              training  \\\n",
       "280  Xolos like long walks and upbeat play, but the...   \n",
       "281  The Yakutian Laika is a sled dog with a well-d...   \n",
       "282  Even small dogs require exercise to stay healt...   \n",
       "\n",
       "                                             nutrition  \n",
       "280  Xolos need a consistent training regimen and c...  \n",
       "281  Training the Yakutian Laika is a rather pleasa...  \n",
       "282  Yorkies love their owners, and are very intell...  \n",
       "\n",
       "[3 rows x 29 columns]"
      ]
     },
     "execution_count": 24,
     "metadata": {},
     "output_type": "execute_result"
    }
   ],
   "source": [
    "df = pd.read_csv(\"dog_data_09032022.csv\")\n",
    "df.tail(3)"
   ]
  },
  {
   "cell_type": "markdown",
   "metadata": {},
   "source": [
    "## Data Cleaning\n",
    "- Drop unneccsary columns\n",
    "- Clean height\n",
    "    - drop all Nan Rows\n",
    "    - Choose one unit, male and standard\n",
    "    "
   ]
  },
  {
   "cell_type": "code",
   "execution_count": 25,
   "metadata": {},
   "outputs": [
    {
     "name": "stdout",
     "output_type": "stream",
     "text": [
      "(283, 28)\n"
     ]
    }
   ],
   "source": [
    "# Let's tackle one column after another\n",
    "# drop first unnamed column\n",
    "df = df.drop(df.columns[0], axis=1)\n",
    "df.tail(2)\n",
    "print(df.shape)"
   ]
  },
  {
   "cell_type": "code",
   "execution_count": 26,
   "metadata": {},
   "outputs": [],
   "source": [
    "df['temp'] = df.height.apply(lambda x: len(str(x).split('~')))"
   ]
  },
  {
   "cell_type": "code",
   "execution_count": 27,
   "metadata": {},
   "outputs": [
    {
     "name": "stdout",
     "output_type": "stream",
     "text": [
      "(283, 29)\n",
      "(273, 29)\n"
     ]
    }
   ],
   "source": [
    "# remove all Nan rows\n",
    "print(df.shape)\n",
    "df = df[df['height'].notna()]\n",
    "print(df.shape)"
   ]
  },
  {
   "cell_type": "markdown",
   "metadata": {},
   "source": [
    "## Height Cleaning"
   ]
  },
  {
   "cell_type": "code",
   "execution_count": 28,
   "metadata": {},
   "outputs": [],
   "source": [
    "# we want to get regular, male, standard\n",
    "def height_separate(height_str):\n",
    "    height_str = height_str.lower()\n",
    "    if 'male' in height_str:\n",
    "        height_str = height_str.split('(male')[0]\n",
    "    elif 'standard' in height_str:\n",
    "        height_str_list = height_str.split('~')\n",
    "        for height_str_iter in height_str_list:\n",
    "            if '(standard)' in height_str_iter:\n",
    "                height_str = height_str_iter\n",
    "        height_str = height_str.split('(standard)')[0]\n",
    "        \n",
    "    # remove inches\n",
    "    height_str = height_str.replace('inches',\"\")\n",
    "    height_str = height_str.replace('pounds',\"\")\n",
    "    height_str = height_str.replace('~',\"\")\n",
    "        \n",
    "    return height_str\n",
    "\n",
    "def height_str_to_val(height_str):\n",
    "    height_str = height_str.split('-')\n",
    "    height_val_list = []\n",
    "    for height_digit in height_str:\n",
    "        try: \n",
    "            height_val = float(height_digit)\n",
    "            height_val_list.append(height_val)\n",
    "        except:\n",
    "            return height_str\n",
    "    return sum(height_val_list) / len(height_val_list)"
   ]
  },
  {
   "cell_type": "code",
   "execution_count": 29,
   "metadata": {},
   "outputs": [],
   "source": [
    "df['height'] = df.height.apply(lambda x : height_separate(x))"
   ]
  },
  {
   "cell_type": "code",
   "execution_count": 30,
   "metadata": {},
   "outputs": [],
   "source": [
    "df['height'] = df.height.apply(lambda x : height_str_to_val(x))"
   ]
  },
  {
   "cell_type": "code",
   "execution_count": 31,
   "metadata": {},
   "outputs": [
    {
     "name": "stdout",
     "output_type": "stream",
     "text": [
      "['20 1/2 ', ' 22  ']\n",
      "['up to 15 ']\n",
      "['13  & under13', '15 under 20  (13  & under)20', '30  (13', '15 )']\n",
      "['28  & up ']\n",
      "['minimum: 25.5', '27.5 ']\n",
      "['minimum: 23.5', '25.5 ']\n",
      "['32  minimum ']\n",
      "['27.5 minimum  ']\n",
      "['30  & up ']\n",
      "['28  (average male)26  (average female)']\n",
      "['22  & up ']\n",
      "['9.75', '15.75  (small) 15.75', '19.75  (medium) 19.75', '25.75  (large)']\n",
      "['over 15  ']\n",
      "['no more than 10 ']\n",
      "['22', '28  (large) 16', '22  (medium)']\n",
      "['males 30', '31 females 25', '30 ']\n",
      "['19.5 ', ' 24.5  males19 ', ' 24  females']\n",
      "['15½ ']\n",
      "['minimum 28', '35 ']\n",
      "['minimum 26  ']\n",
      "['minimum 21.5', '23.5 ']\n",
      "['15½ ']\n",
      "[22, 26, 28, 50, 73, 88, 141, 154, 168, 177, 185, 192, 200, 201, 203, 212, 232, 245, 247, 259, 263, 276]\n"
     ]
    }
   ],
   "source": [
    "idx_list = []\n",
    "for i,h in zip(df.index,df.height):\n",
    "    if type(h) is not float:\n",
    "        idx_list.append(i)\n",
    "        print(h)\n",
    "print(idx_list)"
   ]
  },
  {
   "cell_type": "code",
   "execution_count": 32,
   "metadata": {},
   "outputs": [
    {
     "name": "stderr",
     "output_type": "stream",
     "text": [
      "/Users/glee2/opt/anaconda3/lib/python3.9/site-packages/pandas/core/indexing.py:1732: SettingWithCopyWarning: \n",
      "A value is trying to be set on a copy of a slice from a DataFrame\n",
      "\n",
      "See the caveats in the documentation: https://pandas.pydata.org/pandas-docs/stable/user_guide/indexing.html#returning-a-view-versus-a-copy\n",
      "  self._setitem_single_block(indexer, value, name)\n"
     ]
    }
   ],
   "source": [
    "df.height.loc[22] = (20.5 + 22) / 2\n",
    "df.height.loc[26] = 15\n",
    "df.height.loc[28] = 20\n",
    "df.height.loc[50] = 28\n",
    "df.height.loc[73] = (22.5 + 27.5) / 2\n",
    "df.height.loc[88] = (23.5 + 25.5) / 2\n",
    "df.height.loc[141] = 32\n",
    "df.height.loc[154] = 27.5\n",
    "df.height.loc[168] = 30\n",
    "df.height.loc[177] = 28\n",
    "df.height.loc[185] = 22\n",
    "df.height.loc[192] = (15.75+19.75) / 2\n",
    "df.height.loc[200] = 15\n",
    "df.height.loc[201] = 10\n",
    "df.height.loc[203] = (16 +22) / 2\n",
    "df.height.loc[212] = 30.5\n",
    "df.height.loc[232] = (19.5+24.5) / 2\n",
    "df.height.loc[245] = 15.5\n",
    "df.height.loc[247] = (28+35) / 2\n",
    "df.height.loc[259] = 26\n",
    "df.height.loc[263] = 21.5\n",
    "df.height.loc[276] = 15.5"
   ]
  },
  {
   "cell_type": "markdown",
   "metadata": {},
   "source": [
    "## Weight Cleaning"
   ]
  },
  {
   "cell_type": "code",
   "execution_count": 33,
   "metadata": {},
   "outputs": [
    {
     "name": "stdout",
     "output_type": "stream",
     "text": [
      "(273, 29)\n",
      "(262, 29)\n"
     ]
    }
   ],
   "source": [
    "# remove all Nan rows\n",
    "print(df.shape)\n",
    "df = df[df['weight'].notna()]\n",
    "print(df.shape)"
   ]
  },
  {
   "cell_type": "code",
   "execution_count": 34,
   "metadata": {},
   "outputs": [],
   "source": [
    "df['weight'] = df.weight.apply(lambda x : height_separate(x))\n",
    "df['weight'] = df.weight.apply(lambda x : height_str_to_val(x))"
   ]
  },
  {
   "cell_type": "code",
   "execution_count": 35,
   "metadata": {},
   "outputs": [
    {
     "name": "stdout",
     "output_type": "stream",
     "text": [
      "['minimum: 88', '110 ']\n",
      "['not exceeding 6 ']\n",
      "['minimum: 44', '57 ']\n",
      "['110  & up ']\n",
      "['under 28 ']\n",
      "['100  & up ']\n",
      "['100  or more ']\n",
      "['under 7 ']\n",
      "['under 12 ']\n",
      "['up to 14 ']\n",
      "['up to 30  ']\n",
      "['8.5', '17.5  (small) 17.5', '26.5  (medium) 26.5', '55  (large)']\n",
      "['44', '66  (large) 35', '44  (medium)']\n",
      "['up to 6.5 ']\n",
      "['around 10 ']\n",
      "['minimum 55 ']\n",
      "[73, 76, 88, 96, 112, 126, 154, 165, 167, 189, 190, 192, 203, 222, 238, 265]\n"
     ]
    }
   ],
   "source": [
    "idx_list = []\n",
    "for i,h in zip(df.index,df.weight):\n",
    "    if type(h) is not float:\n",
    "        idx_list.append(i)\n",
    "        print(h)\n",
    "print(idx_list)"
   ]
  },
  {
   "cell_type": "code",
   "execution_count": 36,
   "metadata": {},
   "outputs": [],
   "source": [
    "df.weight.loc[73] = (88 + 110)/2\n",
    "df.weight.loc[76] = 6\n",
    "df.weight.loc[88] = (44 + 57)/2\n",
    "df.weight.loc[96] = 110\n",
    "df.weight.loc[112] = 28\n",
    "df.weight.loc[126] = 100\n",
    "df.weight.loc[154] = 100\n",
    "df.weight.loc[165] = 7\n",
    "df.weight.loc[167] = 12\n",
    "df.weight.loc[189] = 14\n",
    "df.weight.loc[190] = 30\n",
    "df.weight.loc[192] = (17.5+26.5) / 2\n",
    "df.weight.loc[203] = (35+44) / 2\n",
    "df.weight.loc[222] = 6.5\n",
    "df.weight.loc[238] = 10\n",
    "df.weight.loc[265] = 55"
   ]
  },
  {
   "cell_type": "code",
   "execution_count": 50,
   "metadata": {},
   "outputs": [],
   "source": [
    "df.height = df.height.astype(float)\n",
    "df.weight = df.weight.astype(float)"
   ]
  },
  {
   "cell_type": "code",
   "execution_count": 51,
   "metadata": {},
   "outputs": [
    {
     "data": {
      "text/plain": [
       "<matplotlib.collections.PathCollection at 0x7ff3308bb160>"
      ]
     },
     "execution_count": 51,
     "metadata": {},
     "output_type": "execute_result"
    },
    {
     "data": {
      "image/png": "[encoded data removed]",
      "text/plain": [
       "<Figure size 432x288 with 1 Axes>"
      ]
     },
     "metadata": {
      "needs_background": "light"
     },
     "output_type": "display_data"
    }
   ],
   "source": [
    "plt.scatter(df.height, df.weight)"
   ]
  },
  {
   "cell_type": "code",
   "execution_count": 53,
   "metadata": {},
   "outputs": [
    {
     "name": "stderr",
     "output_type": "stream",
     "text": [
      "/Users/glee2/opt/anaconda3/lib/python3.9/site-packages/seaborn/_decorators.py:36: FutureWarning: Pass the following variables as keyword args: x, y. From version 0.12, the only valid positional argument will be `data`, and passing other arguments without an explicit keyword will result in an error or misinterpretation.\n",
      "  warnings.warn(\n"
     ]
    },
    {
     "data": {
      "text/plain": [
       "<AxesSubplot:xlabel='height', ylabel='weight'>"
      ]
     },
     "execution_count": 53,
     "metadata": {},
     "output_type": "execute_result"
    },
    {
     "data": {
      "image/png": "[encoded data removed]",
      "text/plain": [
       "<Figure size 432x288 with 1 Axes>"
      ]
     },
     "metadata": {
      "needs_background": "light"
     },
     "output_type": "display_data"
    }
   ],
   "source": [
    "sns.regplot(df.height, df.weight)"
   ]
  },
  {
   "cell_type": "code",
   "execution_count": 52,
   "metadata": {},
   "outputs": [
    {
     "data": {
      "text/plain": [
       "array([[1.        , 0.84117845],\n",
       "       [0.84117845, 1.        ]])"
      ]
     },
     "execution_count": 52,
     "metadata": {},
     "output_type": "execute_result"
    }
   ],
   "source": [
    "np.corrcoef(df.height.values, df.weight.values)"
   ]
  },
  {
   "cell_type": "code",
   "execution_count": 46,
   "metadata": {},
   "outputs": [
    {
     "data": {
      "text/plain": [
       "array([8.5, 55.0, 60.0, 115.0, 85.0, 87.5, 55.0, 30.0, 67.5, 14.0, 62.5,\n",
       "       37.5, 130.0, 59.0, 42.5, 57.5, 17.5, 49.5, 50.0, 24.0, 31.0, 52.5,\n",
       "       51.5, 50.0, 90.0, 20.0, 60.0, 70.0, 65.0, 65.0, 77.0, 60.0, 97.5,\n",
       "       15.0, 6.0, 87.5, 105.0, 100.0, 67.5, 175.0, 50.5, 8.0, 42.5, 14.25,\n",
       "       90.0, 18.5, 90.0, 72.5, 35.0, 72.5, 44.0, 47.5, 77.5, 35.0, 120.0,\n",
       "       9.0, 60.0, 50.0, 120.0, 14.0, 50.0, 34.0, 42.5, 72.5, 134.5, 15.5,\n",
       "       99.0, 19.0, 72.5, 6, 10.0, 52.5, 72.5, 57.5, 24.0, 77.5, 27.5,\n",
       "       67.5, 12.0, 36.5, 77.5, 50.5, 24.0, 57.5, 21.0, 17.5, 47.5, 87.5,\n",
       "       90.0, 110, 37.5, 58.5, 31.0, 67.5, 72.5, 50.0, 11.0, 57.5, 104.5,\n",
       "       55.0, 42.5, 43.0, 29.0, 65.0, 28, 55.0, 67.5, 35.0, 77.5, 62.5,\n",
       "       60.0, 72.5, 36.0, 70.0, 67.5, 42.5, 157.5, 100, 127.5, 67.5, 57.5,\n",
       "       89.0, 52.5, 10.0, 55.0, 77.5, 50.0, 30.0, 51.0, 70.0, 27.0, 61.5,\n",
       "       120.0, 10.5, 19.5, 70.0, 9.0, 17.5, 46.5, 40.0, 36.5, 45.0, 100,\n",
       "       27.5, 107.5, 72.5, 17.0, 13.0, 70.0, 140.0, 15.0, 15.0, 7, 17.0,\n",
       "       12, 195.0, 30.0, 23.0, 9.0, 15.5, 23.5, 150.0, 140.0, 11.5, 25.0,\n",
       "       35.5, 55.0, 25.0, 12.0, 42.5, 80.0, 115.0, 7.5, 15.0, 14, 30, 97.0,\n",
       "       22.0, 32.5, 50.0, 55.0, 65.0, 40.0, 5.0, 12.5, 65.0, 5.0, 58.5,\n",
       "       39.5, 11.0, 47.0, 48.25, 51.0, 57.5, 16.0, 30.0, 28.0, 180.0, 22.5,\n",
       "       104.5, 17.5, 57.5, 85.0, 115.0, 12.0, 6.5, 7.5, 160.0, 52.5, 55.0,\n",
       "       40.5, 13.0, 97.5, 20.5, 23.5, 20.0, 23.0, 12.5, 45.0, 52.5, 10,\n",
       "       40.0, 42.5, 82.5, 38.5, 50.0, 18.0, 37.5, 170.0, 44.5, 50.0, 33.0,\n",
       "       42.5, 40.0, 37.5, 27.5, 33.0, 16.5, 55.0, 120.0, 12.0, 24.0, 86.0,\n",
       "       150.0, 55, 40.0, 60.0, 57.5, 13.0, 80.0, 47.5, 20.0, 17.5, 62.5,\n",
       "       32.5, 18.0, 60.0, 60.0, 44.0, 42.5, 47.5, 7.0], dtype=object)"
      ]
     },
     "execution_count": 46,
     "metadata": {},
     "output_type": "execute_result"
    }
   ],
   "source": [
    "df.weight.values"
   ]
  }
 ],
 "metadata": {
  "kernelspec": {
   "display_name": "Python 3.9.12 ('base')",
   "language": "python",
   "name": "python3"
  },
  "language_info": {
   "codemirror_mode": {
    "name": "ipython",
    "version": 3
   },
   "file_extension": ".py",
   "mimetype": "text/x-python",
   "name": "python",
   "nbconvert_exporter": "python",
   "pygments_lexer": "ipython3",
   "version": "3.9.12"
  },
  "orig_nbformat": 4,
  "vscode": {
   "interpreter": {
    "hash": "29f9ce33f6c884e3855952bfd7c8e1ec7ab3eef33d7abd85991a8524700c864f"
   }
  }
 },
 "nbformat": 4,
 "nbformat_minor": 2
}
