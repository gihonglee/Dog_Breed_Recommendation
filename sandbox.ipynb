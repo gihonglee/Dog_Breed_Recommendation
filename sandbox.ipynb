{
 "cells": [
  {
   "cell_type": "code",
   "execution_count": 330,
   "metadata": {},
   "outputs": [],
   "source": [
    "import numpy as np\n",
    "import pandas as pd\n",
    "import seaborn as sns"
   ]
  },
  {
   "cell_type": "code",
   "execution_count": 331,
   "metadata": {},
   "outputs": [
    {
     "data": {
      "text/html": [
       "<div>\n",
       "<style scoped>\n",
       "    .dataframe tbody tr th:only-of-type {\n",
       "        vertical-align: middle;\n",
       "    }\n",
       "\n",
       "    .dataframe tbody tr th {\n",
       "        vertical-align: top;\n",
       "    }\n",
       "\n",
       "    .dataframe thead th {\n",
       "        text-align: right;\n",
       "    }\n",
       "</style>\n",
       "<table border=\"1\" class=\"dataframe\">\n",
       "  <thead>\n",
       "    <tr style=\"text-align: right;\">\n",
       "      <th></th>\n",
       "      <th>Unnamed: 0</th>\n",
       "      <th>dog</th>\n",
       "      <th>height</th>\n",
       "      <th>weight</th>\n",
       "      <th>life</th>\n",
       "      <th>Affectionate With Family</th>\n",
       "      <th>Good With Young Children</th>\n",
       "      <th>Good With Other Dogs</th>\n",
       "      <th>Shedding Level</th>\n",
       "      <th>Coat Grooming Frequency</th>\n",
       "      <th>...</th>\n",
       "      <th>Barking Level</th>\n",
       "      <th>Mental Stimulation Needs</th>\n",
       "      <th>popularity_rank</th>\n",
       "      <th>color</th>\n",
       "      <th>marking</th>\n",
       "      <th>health</th>\n",
       "      <th>grooming</th>\n",
       "      <th>excercise</th>\n",
       "      <th>training</th>\n",
       "      <th>nutrition</th>\n",
       "    </tr>\n",
       "  </thead>\n",
       "  <tbody>\n",
       "    <tr>\n",
       "      <th>280</th>\n",
       "      <td>280</td>\n",
       "      <td>xoloitzcuintli</td>\n",
       "      <td>~10-14 inches (toy)~14-18 inches (miniature)~1...</td>\n",
       "      <td>~10-15 pounds (toy)~15-30 pounds (miniature)~3...</td>\n",
       "      <td>13-18 years</td>\n",
       "      <td>5</td>\n",
       "      <td>3</td>\n",
       "      <td>3</td>\n",
       "      <td>1</td>\n",
       "      <td>1</td>\n",
       "      <td>...</td>\n",
       "      <td>3</td>\n",
       "      <td>4</td>\n",
       "      <td>119 of 1</td>\n",
       "      <td>Black-Black &amp; White-Black White &amp; Tan-Brindle-...</td>\n",
       "      <td>Spotted-White Markings-Tan Markings-Black Mark...</td>\n",
       "      <td>Owning a dog is not just a privilege; it’s a r...</td>\n",
       "      <td>Xolos are generally healthy dogs, and responsi...</td>\n",
       "      <td>Coated Xolos have an easy-care short coat, req...</td>\n",
       "      <td>Xolos like long walks and upbeat play, but the...</td>\n",
       "      <td>Xolos need a consistent training regimen and c...</td>\n",
       "    </tr>\n",
       "    <tr>\n",
       "      <th>281</th>\n",
       "      <td>281</td>\n",
       "      <td>yakutian-laika</td>\n",
       "      <td>~21-23 inches</td>\n",
       "      <td>~40-55 pounds</td>\n",
       "      <td>10-12 years</td>\n",
       "      <td>5</td>\n",
       "      <td>5</td>\n",
       "      <td>4</td>\n",
       "      <td>4</td>\n",
       "      <td>2</td>\n",
       "      <td>...</td>\n",
       "      <td>4</td>\n",
       "      <td>5</td>\n",
       "      <td>NaN</td>\n",
       "      <td>Black &amp; White-Brown &amp; White-Gray &amp; White-White...</td>\n",
       "      <td>Black Markings-Tri-Colored-Buff Markings</td>\n",
       "      <td>Owning a dog is not just a privilege; it’s a r...</td>\n",
       "      <td>The Yakutian Laika is a hardy breed, and to ke...</td>\n",
       "      <td>The Yakutian Laika experiences seasonal sheddi...</td>\n",
       "      <td>The Yakutian Laika is a sled dog with a well-d...</td>\n",
       "      <td>Training the Yakutian Laika is a rather pleasa...</td>\n",
       "    </tr>\n",
       "    <tr>\n",
       "      <th>282</th>\n",
       "      <td>282</td>\n",
       "      <td>yorkshire-terrier</td>\n",
       "      <td>~7-8 inches</td>\n",
       "      <td>~7 pounds</td>\n",
       "      <td>11-15 years</td>\n",
       "      <td>5</td>\n",
       "      <td>5</td>\n",
       "      <td>3</td>\n",
       "      <td>1</td>\n",
       "      <td>5</td>\n",
       "      <td>...</td>\n",
       "      <td>4</td>\n",
       "      <td>4</td>\n",
       "      <td>13 of 1</td>\n",
       "      <td>Black &amp; Tan-Blue &amp; Gold-Blue &amp; Tan-Black &amp; Gold</td>\n",
       "      <td>NaN</td>\n",
       "      <td>Owning a dog is not just a privilege; it’s a r...</td>\n",
       "      <td>Yorkshire Terriers are generally healthy dogs,...</td>\n",
       "      <td>The Yorkshire Terrier's coat is very similar t...</td>\n",
       "      <td>Even small dogs require exercise to stay healt...</td>\n",
       "      <td>Yorkies love their owners, and are very intell...</td>\n",
       "    </tr>\n",
       "  </tbody>\n",
       "</table>\n",
       "<p>3 rows × 29 columns</p>\n",
       "</div>"
      ],
      "text/plain": [
       "     Unnamed: 0                dog  \\\n",
       "280         280     xoloitzcuintli   \n",
       "281         281     yakutian-laika   \n",
       "282         282  yorkshire-terrier   \n",
       "\n",
       "                                                height  \\\n",
       "280  ~10-14 inches (toy)~14-18 inches (miniature)~1...   \n",
       "281                                      ~21-23 inches   \n",
       "282                                        ~7-8 inches   \n",
       "\n",
       "                                                weight         life  \\\n",
       "280  ~10-15 pounds (toy)~15-30 pounds (miniature)~3...  13-18 years   \n",
       "281                                      ~40-55 pounds  10-12 years   \n",
       "282                                          ~7 pounds  11-15 years   \n",
       "\n",
       "     Affectionate With Family  Good With Young Children  Good With Other Dogs  \\\n",
       "280                         5                         3                     3   \n",
       "281                         5                         5                     4   \n",
       "282                         5                         5                     3   \n",
       "\n",
       "     Shedding Level  Coat Grooming Frequency  ...  Barking Level  \\\n",
       "280               1                        1  ...              3   \n",
       "281               4                        2  ...              4   \n",
       "282               1                        5  ...              4   \n",
       "\n",
       "    Mental Stimulation Needs popularity_rank  \\\n",
       "280                        4        119 of 1   \n",
       "281                        5             NaN   \n",
       "282                        4         13 of 1   \n",
       "\n",
       "                                                 color  \\\n",
       "280  Black-Black & White-Black White & Tan-Brindle-...   \n",
       "281  Black & White-Brown & White-Gray & White-White...   \n",
       "282    Black & Tan-Blue & Gold-Blue & Tan-Black & Gold   \n",
       "\n",
       "                                               marking  \\\n",
       "280  Spotted-White Markings-Tan Markings-Black Mark...   \n",
       "281           Black Markings-Tri-Colored-Buff Markings   \n",
       "282                                                NaN   \n",
       "\n",
       "                                                health  \\\n",
       "280  Owning a dog is not just a privilege; it’s a r...   \n",
       "281  Owning a dog is not just a privilege; it’s a r...   \n",
       "282  Owning a dog is not just a privilege; it’s a r...   \n",
       "\n",
       "                                              grooming  \\\n",
       "280  Xolos are generally healthy dogs, and responsi...   \n",
       "281  The Yakutian Laika is a hardy breed, and to ke...   \n",
       "282  Yorkshire Terriers are generally healthy dogs,...   \n",
       "\n",
       "                                             excercise  \\\n",
       "280  Coated Xolos have an easy-care short coat, req...   \n",
       "281  The Yakutian Laika experiences seasonal sheddi...   \n",
       "282  The Yorkshire Terrier's coat is very similar t...   \n",
       "\n",
       "                                              training  \\\n",
       "280  Xolos like long walks and upbeat play, but the...   \n",
       "281  The Yakutian Laika is a sled dog with a well-d...   \n",
       "282  Even small dogs require exercise to stay healt...   \n",
       "\n",
       "                                             nutrition  \n",
       "280  Xolos need a consistent training regimen and c...  \n",
       "281  Training the Yakutian Laika is a rather pleasa...  \n",
       "282  Yorkies love their owners, and are very intell...  \n",
       "\n",
       "[3 rows x 29 columns]"
      ]
     },
     "execution_count": 331,
     "metadata": {},
     "output_type": "execute_result"
    }
   ],
   "source": [
    "df = pd.read_csv(\"dog_data_09032022.csv\")\n",
    "df.tail(3)"
   ]
  },
  {
   "cell_type": "markdown",
   "metadata": {},
   "source": [
    "## Data Cleaning\n",
    "- Drop unneccsary columns\n",
    "- Clean height\n",
    "    - drop all Nan Rows\n",
    "    - Choose one unit, male and standard\n",
    "    "
   ]
  },
  {
   "cell_type": "code",
   "execution_count": 332,
   "metadata": {},
   "outputs": [
    {
     "name": "stdout",
     "output_type": "stream",
     "text": [
      "(283, 28)\n"
     ]
    }
   ],
   "source": [
    "# Let's tackle one column after another\n",
    "# drop first unnamed column\n",
    "df = df.drop(df.columns[0], axis=1)\n",
    "df.tail(2)\n",
    "print(df.shape)"
   ]
  },
  {
   "cell_type": "code",
   "execution_count": 333,
   "metadata": {},
   "outputs": [],
   "source": [
    "# clean height\n",
    "concat_height = \"\"\n",
    "for h in df.height:\n",
    "    concat_height = concat_height + str(h)\n",
    "result = ''.join([i for i in concat_height if not i.isdigit()])\n",
    "\n",
    "# they either have\n",
    "# 1) one unit\n",
    "# 2) male & female\n",
    "# 3) Toy & Miniature & Standard\n"
   ]
  },
  {
   "cell_type": "code",
   "execution_count": 334,
   "metadata": {},
   "outputs": [],
   "source": [
    "concat_weight = \"\"\n",
    "for h in df.life:\n",
    "    concat_weight = concat_weight + str(h)\n",
    "\n",
    "result = ''.join([i for i in concat_weight if not i.isdigit()])\n",
    "\n",
    "# they either have\n",
    "# 1) one unit\n",
    "# 2) male & female\n",
    "# 3) Toy & Miniature & Standard\n"
   ]
  },
  {
   "cell_type": "code",
   "execution_count": 335,
   "metadata": {},
   "outputs": [],
   "source": [
    "df['temp'] = df.height.apply(lambda x: len(str(x).split('~')))"
   ]
  },
  {
   "cell_type": "code",
   "execution_count": 336,
   "metadata": {},
   "outputs": [
    {
     "data": {
      "text/plain": [
       "dog                            0\n",
       "height                        10\n",
       "weight                        20\n",
       "life                           1\n",
       "Affectionate With Family       0\n",
       "Good With Young Children       0\n",
       "Good With Other Dogs           0\n",
       "Shedding Level                 0\n",
       "Coat Grooming Frequency        0\n",
       "Drooling Level                 0\n",
       "Coat Type                      8\n",
       "Coat Length                    5\n",
       "Openness To Strangers          0\n",
       "Playfulness Level              0\n",
       "Watchdog/Protective Nature     0\n",
       "Adaptability Level             0\n",
       "Trainability Level             0\n",
       "Energy Level                   0\n",
       "Barking Level                  0\n",
       "Mental Stimulation Needs       0\n",
       "popularity_rank               84\n",
       "color                          4\n",
       "marking                       95\n",
       "health                         0\n",
       "grooming                       0\n",
       "excercise                      0\n",
       "training                       0\n",
       "nutrition                     20\n",
       "temp                           0\n",
       "dtype: int64"
      ]
     },
     "execution_count": 336,
     "metadata": {},
     "output_type": "execute_result"
    }
   ],
   "source": [
    "df.isna().sum()"
   ]
  },
  {
   "cell_type": "code",
   "execution_count": 337,
   "metadata": {},
   "outputs": [
    {
     "name": "stdout",
     "output_type": "stream",
     "text": [
      "(283, 29)\n",
      "(273, 29)\n"
     ]
    }
   ],
   "source": [
    "# remove all Nan rows\n",
    "print(df.shape)\n",
    "df = df[df['height'].notna()]\n",
    "print(df.shape)"
   ]
  },
  {
   "cell_type": "code",
   "execution_count": 338,
   "metadata": {},
   "outputs": [],
   "source": [
    "# we want to get regular, male, standard\n",
    "def height_separate(height_str):\n",
    "    height_str = height_str.lower()\n",
    "    if 'male' in height_str:\n",
    "        height_str = height_str.split('(male')[0]\n",
    "    elif 'standard' in height_str:\n",
    "        height_str_list = height_str.split('~')\n",
    "        for height_str_iter in height_str_list:\n",
    "            if '(standard)' in height_str_iter:\n",
    "                height_str = height_str_iter\n",
    "        height_str = height_str.split('(standard)')[0]\n",
    "        \n",
    "    # remove inches\n",
    "    height_str = height_str.replace('inches',\"\")\n",
    "    height_str = height_str.replace('~',\"\")\n",
    "        \n",
    "    return height_str\n",
    "\n",
    "def height_str_to_val(height_str):\n",
    "    height_str = height_str.split('-')\n",
    "    height_val_list = []\n",
    "    for height_digit in height_str:\n",
    "        try: \n",
    "            height_val = float(height_digit)\n",
    "            height_val_list.append(height_val)\n",
    "        except:\n",
    "            print('not possible')\n",
    "            return height_str\n",
    "    return sum(height_val_list) / len(height_val_list)\n",
    "    "
   ]
  },
  {
   "cell_type": "code",
   "execution_count": 339,
   "metadata": {},
   "outputs": [
    {
     "data": {
      "text/plain": [
       "6"
      ]
     },
     "execution_count": 339,
     "metadata": {},
     "output_type": "execute_result"
    }
   ],
   "source": [
    "sum([1,2,3])"
   ]
  },
  {
   "cell_type": "code",
   "execution_count": 340,
   "metadata": {},
   "outputs": [],
   "source": [
    "df['height'] = df.height.apply(lambda x : height_separate(x))"
   ]
  },
  {
   "cell_type": "code",
   "execution_count": 342,
   "metadata": {},
   "outputs": [
    {
     "name": "stdout",
     "output_type": "stream",
     "text": [
      "not possible\n",
      "not possible\n",
      "not possible\n",
      "not possible\n",
      "not possible\n",
      "not possible\n",
      "not possible\n",
      "not possible\n",
      "not possible\n",
      "not possible\n",
      "not possible\n",
      "not possible\n",
      "not possible\n",
      "not possible\n",
      "not possible\n",
      "not possible\n",
      "not possible\n",
      "not possible\n",
      "not possible\n",
      "not possible\n",
      "not possible\n",
      "not possible\n"
     ]
    },
    {
     "data": {
      "text/plain": [
       "0      10.25\n",
       "1       26.0\n",
       "2       23.0\n",
       "3       27.0\n",
       "4      16.25\n",
       "       ...  \n",
       "278     24.0\n",
       "279     22.0\n",
       "280     20.5\n",
       "281     22.0\n",
       "282      7.5\n",
       "Name: height, Length: 273, dtype: object"
      ]
     },
     "execution_count": 342,
     "metadata": {},
     "output_type": "execute_result"
    }
   ],
   "source": [
    "df.height.apply(lambda x : height_str_to_val(x))"
   ]
  },
  {
   "cell_type": "code",
   "execution_count": null,
   "metadata": {},
   "outputs": [],
   "source": []
  }
 ],
 "metadata": {
  "kernelspec": {
   "display_name": "Python 3.9.12 ('base')",
   "language": "python",
   "name": "python3"
  },
  "language_info": {
   "codemirror_mode": {
    "name": "ipython",
    "version": 3
   },
   "file_extension": ".py",
   "mimetype": "text/x-python",
   "name": "python",
   "nbconvert_exporter": "python",
   "pygments_lexer": "ipython3",
   "version": "3.9.12"
  },
  "orig_nbformat": 4,
  "vscode": {
   "interpreter": {
    "hash": "29f9ce33f6c884e3855952bfd7c8e1ec7ab3eef33d7abd85991a8524700c864f"
   }
  }
 },
 "nbformat": 4,
 "nbformat_minor": 2
}
