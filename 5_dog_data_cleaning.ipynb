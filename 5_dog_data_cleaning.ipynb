{
 "cells": [
  {
   "cell_type": "code",
   "execution_count": 6,
   "metadata": {},
   "outputs": [],
   "source": [
    "import numpy as np\n",
    "import pandas as pd\n",
    "import seaborn as sns\n",
    "import matplotlib.pyplot as plt"
   ]
  },
  {
   "cell_type": "code",
   "execution_count": 36,
   "metadata": {},
   "outputs": [
    {
     "data": {
      "text/html": [
       "<div>\n",
       "<style scoped>\n",
       "    .dataframe tbody tr th:only-of-type {\n",
       "        vertical-align: middle;\n",
       "    }\n",
       "\n",
       "    .dataframe tbody tr th {\n",
       "        vertical-align: top;\n",
       "    }\n",
       "\n",
       "    .dataframe thead th {\n",
       "        text-align: right;\n",
       "    }\n",
       "</style>\n",
       "<table border=\"1\" class=\"dataframe\">\n",
       "  <thead>\n",
       "    <tr style=\"text-align: right;\">\n",
       "      <th></th>\n",
       "      <th>Unnamed: 0</th>\n",
       "      <th>dog</th>\n",
       "      <th>height</th>\n",
       "      <th>weight</th>\n",
       "      <th>life</th>\n",
       "      <th>Affectionate With Family</th>\n",
       "      <th>Good With Young Children</th>\n",
       "      <th>Good With Other Dogs</th>\n",
       "      <th>Shedding Level</th>\n",
       "      <th>Coat Grooming Frequency</th>\n",
       "      <th>...</th>\n",
       "      <th>Barking Level</th>\n",
       "      <th>Mental Stimulation Needs</th>\n",
       "      <th>popularity_rank</th>\n",
       "      <th>color</th>\n",
       "      <th>marking</th>\n",
       "      <th>health</th>\n",
       "      <th>grooming</th>\n",
       "      <th>excercise</th>\n",
       "      <th>training</th>\n",
       "      <th>nutrition</th>\n",
       "    </tr>\n",
       "  </thead>\n",
       "  <tbody>\n",
       "    <tr>\n",
       "      <th>280</th>\n",
       "      <td>280</td>\n",
       "      <td>xoloitzcuintli</td>\n",
       "      <td>~10-14 inches (toy)~14-18 inches (miniature)~1...</td>\n",
       "      <td>~10-15 pounds (toy)~15-30 pounds (miniature)~3...</td>\n",
       "      <td>13-18 years</td>\n",
       "      <td>5</td>\n",
       "      <td>3</td>\n",
       "      <td>3</td>\n",
       "      <td>1</td>\n",
       "      <td>1</td>\n",
       "      <td>...</td>\n",
       "      <td>3</td>\n",
       "      <td>4</td>\n",
       "      <td>119 of 1</td>\n",
       "      <td>Black-Black &amp; White-Black White &amp; Tan-Brindle-...</td>\n",
       "      <td>Spotted-White Markings-Tan Markings-Black Mark...</td>\n",
       "      <td>Owning a dog is not just a privilege; it’s a r...</td>\n",
       "      <td>Xolos are generally healthy dogs, and responsi...</td>\n",
       "      <td>Coated Xolos have an easy-care short coat, req...</td>\n",
       "      <td>Xolos like long walks and upbeat play, but the...</td>\n",
       "      <td>Xolos need a consistent training regimen and c...</td>\n",
       "    </tr>\n",
       "    <tr>\n",
       "      <th>281</th>\n",
       "      <td>281</td>\n",
       "      <td>yakutian-laika</td>\n",
       "      <td>~21-23 inches</td>\n",
       "      <td>~40-55 pounds</td>\n",
       "      <td>10-12 years</td>\n",
       "      <td>5</td>\n",
       "      <td>5</td>\n",
       "      <td>4</td>\n",
       "      <td>4</td>\n",
       "      <td>2</td>\n",
       "      <td>...</td>\n",
       "      <td>4</td>\n",
       "      <td>5</td>\n",
       "      <td>NaN</td>\n",
       "      <td>Black &amp; White-Brown &amp; White-Gray &amp; White-White...</td>\n",
       "      <td>Black Markings-Tri-Colored-Buff Markings</td>\n",
       "      <td>Owning a dog is not just a privilege; it’s a r...</td>\n",
       "      <td>The Yakutian Laika is a hardy breed, and to ke...</td>\n",
       "      <td>The Yakutian Laika experiences seasonal sheddi...</td>\n",
       "      <td>The Yakutian Laika is a sled dog with a well-d...</td>\n",
       "      <td>Training the Yakutian Laika is a rather pleasa...</td>\n",
       "    </tr>\n",
       "    <tr>\n",
       "      <th>282</th>\n",
       "      <td>282</td>\n",
       "      <td>yorkshire-terrier</td>\n",
       "      <td>~7-8 inches</td>\n",
       "      <td>~7 pounds</td>\n",
       "      <td>11-15 years</td>\n",
       "      <td>5</td>\n",
       "      <td>5</td>\n",
       "      <td>3</td>\n",
       "      <td>1</td>\n",
       "      <td>5</td>\n",
       "      <td>...</td>\n",
       "      <td>4</td>\n",
       "      <td>4</td>\n",
       "      <td>13 of 1</td>\n",
       "      <td>Black &amp; Tan-Blue &amp; Gold-Blue &amp; Tan-Black &amp; Gold</td>\n",
       "      <td>NaN</td>\n",
       "      <td>Owning a dog is not just a privilege; it’s a r...</td>\n",
       "      <td>Yorkshire Terriers are generally healthy dogs,...</td>\n",
       "      <td>The Yorkshire Terrier's coat is very similar t...</td>\n",
       "      <td>Even small dogs require exercise to stay healt...</td>\n",
       "      <td>Yorkies love their owners, and are very intell...</td>\n",
       "    </tr>\n",
       "  </tbody>\n",
       "</table>\n",
       "<p>3 rows × 29 columns</p>\n",
       "</div>"
      ],
      "text/plain": [
       "     Unnamed: 0                dog  \\\n",
       "280         280     xoloitzcuintli   \n",
       "281         281     yakutian-laika   \n",
       "282         282  yorkshire-terrier   \n",
       "\n",
       "                                                height  \\\n",
       "280  ~10-14 inches (toy)~14-18 inches (miniature)~1...   \n",
       "281                                      ~21-23 inches   \n",
       "282                                        ~7-8 inches   \n",
       "\n",
       "                                                weight         life  \\\n",
       "280  ~10-15 pounds (toy)~15-30 pounds (miniature)~3...  13-18 years   \n",
       "281                                      ~40-55 pounds  10-12 years   \n",
       "282                                          ~7 pounds  11-15 years   \n",
       "\n",
       "     Affectionate With Family  Good With Young Children  Good With Other Dogs  \\\n",
       "280                         5                         3                     3   \n",
       "281                         5                         5                     4   \n",
       "282                         5                         5                     3   \n",
       "\n",
       "     Shedding Level  Coat Grooming Frequency  ...  Barking Level  \\\n",
       "280               1                        1  ...              3   \n",
       "281               4                        2  ...              4   \n",
       "282               1                        5  ...              4   \n",
       "\n",
       "    Mental Stimulation Needs popularity_rank  \\\n",
       "280                        4        119 of 1   \n",
       "281                        5             NaN   \n",
       "282                        4         13 of 1   \n",
       "\n",
       "                                                 color  \\\n",
       "280  Black-Black & White-Black White & Tan-Brindle-...   \n",
       "281  Black & White-Brown & White-Gray & White-White...   \n",
       "282    Black & Tan-Blue & Gold-Blue & Tan-Black & Gold   \n",
       "\n",
       "                                               marking  \\\n",
       "280  Spotted-White Markings-Tan Markings-Black Mark...   \n",
       "281           Black Markings-Tri-Colored-Buff Markings   \n",
       "282                                                NaN   \n",
       "\n",
       "                                                health  \\\n",
       "280  Owning a dog is not just a privilege; it’s a r...   \n",
       "281  Owning a dog is not just a privilege; it’s a r...   \n",
       "282  Owning a dog is not just a privilege; it’s a r...   \n",
       "\n",
       "                                              grooming  \\\n",
       "280  Xolos are generally healthy dogs, and responsi...   \n",
       "281  The Yakutian Laika is a hardy breed, and to ke...   \n",
       "282  Yorkshire Terriers are generally healthy dogs,...   \n",
       "\n",
       "                                             excercise  \\\n",
       "280  Coated Xolos have an easy-care short coat, req...   \n",
       "281  The Yakutian Laika experiences seasonal sheddi...   \n",
       "282  The Yorkshire Terrier's coat is very similar t...   \n",
       "\n",
       "                                              training  \\\n",
       "280  Xolos like long walks and upbeat play, but the...   \n",
       "281  The Yakutian Laika is a sled dog with a well-d...   \n",
       "282  Even small dogs require exercise to stay healt...   \n",
       "\n",
       "                                             nutrition  \n",
       "280  Xolos need a consistent training regimen and c...  \n",
       "281  Training the Yakutian Laika is a rather pleasa...  \n",
       "282  Yorkies love their owners, and are very intell...  \n",
       "\n",
       "[3 rows x 29 columns]"
      ]
     },
     "execution_count": 36,
     "metadata": {},
     "output_type": "execute_result"
    }
   ],
   "source": [
    "df = pd.read_csv(\"dog_data_09032022.csv\")\n",
    "df.tail(3)"
   ]
  },
  {
   "cell_type": "code",
   "execution_count": 37,
   "metadata": {},
   "outputs": [
    {
     "data": {
      "text/html": [
       "<div>\n",
       "<style scoped>\n",
       "    .dataframe tbody tr th:only-of-type {\n",
       "        vertical-align: middle;\n",
       "    }\n",
       "\n",
       "    .dataframe tbody tr th {\n",
       "        vertical-align: top;\n",
       "    }\n",
       "\n",
       "    .dataframe thead th {\n",
       "        text-align: right;\n",
       "    }\n",
       "</style>\n",
       "<table border=\"1\" class=\"dataframe\">\n",
       "  <thead>\n",
       "    <tr style=\"text-align: right;\">\n",
       "      <th></th>\n",
       "      <th>Unnamed: 0</th>\n",
       "      <th>dog</th>\n",
       "      <th>height</th>\n",
       "      <th>weight</th>\n",
       "      <th>life</th>\n",
       "      <th>Affectionate With Family</th>\n",
       "      <th>Good With Young Children</th>\n",
       "      <th>Good With Other Dogs</th>\n",
       "      <th>Shedding Level</th>\n",
       "      <th>Coat Grooming Frequency</th>\n",
       "      <th>...</th>\n",
       "      <th>Barking Level</th>\n",
       "      <th>Mental Stimulation Needs</th>\n",
       "      <th>popularity_rank</th>\n",
       "      <th>color</th>\n",
       "      <th>marking</th>\n",
       "      <th>health</th>\n",
       "      <th>grooming</th>\n",
       "      <th>excercise</th>\n",
       "      <th>training</th>\n",
       "      <th>nutrition</th>\n",
       "    </tr>\n",
       "  </thead>\n",
       "  <tbody>\n",
       "    <tr>\n",
       "      <th>17</th>\n",
       "      <td>17</td>\n",
       "      <td>australian-kelpie</td>\n",
       "      <td>~17-20 inches</td>\n",
       "      <td>NaN</td>\n",
       "      <td>10-13 years</td>\n",
       "      <td>3</td>\n",
       "      <td>3</td>\n",
       "      <td>3</td>\n",
       "      <td>3</td>\n",
       "      <td>1</td>\n",
       "      <td>...</td>\n",
       "      <td>1</td>\n",
       "      <td>4</td>\n",
       "      <td>NaN</td>\n",
       "      <td>Black-Black &amp; Tan-Blue-Chocolate-Fawn-Red-Red ...</td>\n",
       "      <td>NaN</td>\n",
       "      <td>Owning a dog is not just a privilege; it’s a r...</td>\n",
       "      <td>Most Australian Kelpies are healthy dogs. Work...</td>\n",
       "      <td>\\n\\n\\n\\n\\n\\n\\n\\n The Australian Kelpie has a d...</td>\n",
       "      <td>Australian Kelpies need a lot of exercise to b...</td>\n",
       "      <td>Training for dog sports like agility, obedienc...</td>\n",
       "    </tr>\n",
       "  </tbody>\n",
       "</table>\n",
       "<p>1 rows × 29 columns</p>\n",
       "</div>"
      ],
      "text/plain": [
       "    Unnamed: 0                dog         height weight         life  \\\n",
       "17          17  australian-kelpie  ~17-20 inches    NaN  10-13 years   \n",
       "\n",
       "    Affectionate With Family  Good With Young Children  Good With Other Dogs  \\\n",
       "17                         3                         3                     3   \n",
       "\n",
       "    Shedding Level  Coat Grooming Frequency  ...  Barking Level  \\\n",
       "17               3                        1  ...              1   \n",
       "\n",
       "   Mental Stimulation Needs popularity_rank  \\\n",
       "17                        4             NaN   \n",
       "\n",
       "                                                color  marking  \\\n",
       "17  Black-Black & Tan-Blue-Chocolate-Fawn-Red-Red ...      NaN   \n",
       "\n",
       "                                               health  \\\n",
       "17  Owning a dog is not just a privilege; it’s a r...   \n",
       "\n",
       "                                             grooming  \\\n",
       "17  Most Australian Kelpies are healthy dogs. Work...   \n",
       "\n",
       "                                            excercise  \\\n",
       "17  \\n\\n\\n\\n\\n\\n\\n\\n The Australian Kelpie has a d...   \n",
       "\n",
       "                                             training  \\\n",
       "17  Australian Kelpies need a lot of exercise to b...   \n",
       "\n",
       "                                            nutrition  \n",
       "17  Training for dog sports like agility, obedienc...  \n",
       "\n",
       "[1 rows x 29 columns]"
      ]
     },
     "execution_count": 37,
     "metadata": {},
     "output_type": "execute_result"
    }
   ],
   "source": [
    "name_original_list = df.dog\n",
    "df[df.dog == 'australian-kelpie']"
   ]
  },
  {
   "cell_type": "markdown",
   "metadata": {},
   "source": [
    "## Data Cleaning\n",
    "- Drop unneccsary columns\n",
    "- Clean height\n",
    "    - drop all Nan Rows\n",
    "    - Choose one unit, male and standard\n",
    "    "
   ]
  },
  {
   "cell_type": "code",
   "execution_count": 10,
   "metadata": {},
   "outputs": [
    {
     "name": "stdout",
     "output_type": "stream",
     "text": [
      "(283, 28)\n"
     ]
    }
   ],
   "source": [
    "# Let's tackle one column after another\n",
    "# drop first unnamed column\n",
    "df = df.drop(df.columns[0], axis=1)\n",
    "df.tail(2)\n",
    "print(df.shape)"
   ]
  },
  {
   "cell_type": "code",
   "execution_count": 11,
   "metadata": {},
   "outputs": [],
   "source": [
    "df['temp'] = df.height.apply(lambda x: len(str(x).split('~')))"
   ]
  },
  {
   "cell_type": "code",
   "execution_count": 12,
   "metadata": {},
   "outputs": [
    {
     "name": "stdout",
     "output_type": "stream",
     "text": [
      "(283, 29)\n",
      "(273, 29)\n"
     ]
    }
   ],
   "source": [
    "# remove all Nan rows\n",
    "print(df.shape)\n",
    "df = df[df['height'].notna()]\n",
    "print(df.shape)"
   ]
  },
  {
   "cell_type": "markdown",
   "metadata": {},
   "source": [
    "## Height Cleaning"
   ]
  },
  {
   "cell_type": "code",
   "execution_count": 13,
   "metadata": {},
   "outputs": [],
   "source": [
    "# we want to get regular, male, standard\n",
    "def height_separate(height_str):\n",
    "    height_str = height_str.lower()\n",
    "    if 'male' in height_str:\n",
    "        height_str = height_str.split('(male')[0]\n",
    "    elif 'standard' in height_str:\n",
    "        height_str_list = height_str.split('~')\n",
    "        for height_str_iter in height_str_list:\n",
    "            if '(standard)' in height_str_iter:\n",
    "                height_str = height_str_iter\n",
    "        height_str = height_str.split('(standard)')[0]\n",
    "        \n",
    "    # remove inches\n",
    "    height_str = height_str.replace('inches',\"\")\n",
    "    height_str = height_str.replace('pounds',\"\")\n",
    "    height_str = height_str.replace('~',\"\")\n",
    "        \n",
    "    return height_str\n",
    "\n",
    "def height_str_to_val(height_str):\n",
    "    height_str = height_str.split('-')\n",
    "    height_val_list = []\n",
    "    for height_digit in height_str:\n",
    "        try: \n",
    "            height_val = float(height_digit)\n",
    "            height_val_list.append(height_val)\n",
    "        except:\n",
    "            return height_str\n",
    "    return sum(height_val_list) / len(height_val_list)"
   ]
  },
  {
   "cell_type": "code",
   "execution_count": 14,
   "metadata": {},
   "outputs": [],
   "source": [
    "df['height'] = df.height.apply(lambda x : height_separate(x))"
   ]
  },
  {
   "cell_type": "code",
   "execution_count": 15,
   "metadata": {},
   "outputs": [],
   "source": [
    "df['height'] = df.height.apply(lambda x : height_str_to_val(x))"
   ]
  },
  {
   "cell_type": "code",
   "execution_count": 16,
   "metadata": {},
   "outputs": [
    {
     "name": "stdout",
     "output_type": "stream",
     "text": [
      "['20 1/2 ', ' 22  ']\n",
      "['up to 15 ']\n",
      "['13  & under13', '15 under 20  (13  & under)20', '30  (13', '15 )']\n",
      "['28  & up ']\n",
      "['minimum: 25.5', '27.5 ']\n",
      "['minimum: 23.5', '25.5 ']\n",
      "['32  minimum ']\n",
      "['27.5 minimum  ']\n",
      "['30  & up ']\n",
      "['28  (average male)26  (average female)']\n",
      "['22  & up ']\n",
      "['9.75', '15.75  (small) 15.75', '19.75  (medium) 19.75', '25.75  (large)']\n",
      "['over 15  ']\n",
      "['no more than 10 ']\n",
      "['22', '28  (large) 16', '22  (medium)']\n",
      "['males 30', '31 females 25', '30 ']\n",
      "['19.5 ', ' 24.5  males19 ', ' 24  females']\n",
      "['15½ ']\n",
      "['minimum 28', '35 ']\n",
      "['minimum 26  ']\n",
      "['minimum 21.5', '23.5 ']\n",
      "['15½ ']\n",
      "[22, 26, 28, 50, 73, 88, 141, 154, 168, 177, 185, 192, 200, 201, 203, 212, 232, 245, 247, 259, 263, 276]\n"
     ]
    }
   ],
   "source": [
    "idx_list = []\n",
    "for i,h in zip(df.index,df.height):\n",
    "    if type(h) is not float:\n",
    "        idx_list.append(i)\n",
    "        print(h)\n",
    "print(idx_list)"
   ]
  },
  {
   "cell_type": "code",
   "execution_count": 17,
   "metadata": {},
   "outputs": [
    {
     "name": "stderr",
     "output_type": "stream",
     "text": [
      "/Users/glee2/opt/anaconda3/lib/python3.9/site-packages/pandas/core/indexing.py:1732: SettingWithCopyWarning: \n",
      "A value is trying to be set on a copy of a slice from a DataFrame\n",
      "\n",
      "See the caveats in the documentation: https://pandas.pydata.org/pandas-docs/stable/user_guide/indexing.html#returning-a-view-versus-a-copy\n",
      "  self._setitem_single_block(indexer, value, name)\n"
     ]
    }
   ],
   "source": [
    "df.height.loc[22] = (20.5 + 22) / 2\n",
    "df.height.loc[26] = 15\n",
    "df.height.loc[28] = 20\n",
    "df.height.loc[50] = 28\n",
    "df.height.loc[73] = (22.5 + 27.5) / 2\n",
    "df.height.loc[88] = (23.5 + 25.5) / 2\n",
    "df.height.loc[141] = 32\n",
    "df.height.loc[154] = 27.5\n",
    "df.height.loc[168] = 30\n",
    "df.height.loc[177] = 28\n",
    "df.height.loc[185] = 22\n",
    "df.height.loc[192] = (15.75+19.75) / 2\n",
    "df.height.loc[200] = 15\n",
    "df.height.loc[201] = 10\n",
    "df.height.loc[203] = (16 +22) / 2\n",
    "df.height.loc[212] = 30.5\n",
    "df.height.loc[232] = (19.5+24.5) / 2\n",
    "df.height.loc[245] = 15.5\n",
    "df.height.loc[247] = (28+35) / 2\n",
    "df.height.loc[259] = 26\n",
    "df.height.loc[263] = 21.5\n",
    "df.height.loc[276] = 15.5"
   ]
  },
  {
   "cell_type": "markdown",
   "metadata": {},
   "source": [
    "## Weight Cleaning"
   ]
  },
  {
   "cell_type": "code",
   "execution_count": 18,
   "metadata": {},
   "outputs": [
    {
     "name": "stdout",
     "output_type": "stream",
     "text": [
      "(273, 29)\n",
      "(262, 29)\n"
     ]
    }
   ],
   "source": [
    "# remove all Nan rows\n",
    "print(df.shape)\n",
    "df = df[df['weight'].notna()]\n",
    "print(df.shape)"
   ]
  },
  {
   "cell_type": "code",
   "execution_count": 19,
   "metadata": {},
   "outputs": [],
   "source": [
    "df['weight'] = df.weight.apply(lambda x : height_separate(x))\n",
    "df['weight'] = df.weight.apply(lambda x : height_str_to_val(x))"
   ]
  },
  {
   "cell_type": "code",
   "execution_count": 20,
   "metadata": {},
   "outputs": [
    {
     "name": "stdout",
     "output_type": "stream",
     "text": [
      "['minimum: 88', '110 ']\n",
      "['not exceeding 6 ']\n",
      "['minimum: 44', '57 ']\n",
      "['110  & up ']\n",
      "['under 28 ']\n",
      "['100  & up ']\n",
      "['100  or more ']\n",
      "['under 7 ']\n",
      "['under 12 ']\n",
      "['up to 14 ']\n",
      "['up to 30  ']\n",
      "['8.5', '17.5  (small) 17.5', '26.5  (medium) 26.5', '55  (large)']\n",
      "['44', '66  (large) 35', '44  (medium)']\n",
      "['up to 6.5 ']\n",
      "['around 10 ']\n",
      "['minimum 55 ']\n",
      "[73, 76, 88, 96, 112, 126, 154, 165, 167, 189, 190, 192, 203, 222, 238, 265]\n"
     ]
    }
   ],
   "source": [
    "idx_list = []\n",
    "for i,h in zip(df.index,df.weight):\n",
    "    if type(h) is not float:\n",
    "        idx_list.append(i)\n",
    "        print(h)\n",
    "print(idx_list)"
   ]
  },
  {
   "cell_type": "code",
   "execution_count": 21,
   "metadata": {},
   "outputs": [],
   "source": [
    "df.weight.loc[73] = (88 + 110)/2\n",
    "df.weight.loc[76] = 6\n",
    "df.weight.loc[88] = (44 + 57)/2\n",
    "df.weight.loc[96] = 110\n",
    "df.weight.loc[112] = 28\n",
    "df.weight.loc[126] = 100\n",
    "df.weight.loc[154] = 100\n",
    "df.weight.loc[165] = 7\n",
    "df.weight.loc[167] = 12\n",
    "df.weight.loc[189] = 14\n",
    "df.weight.loc[190] = 30\n",
    "df.weight.loc[192] = (17.5+26.5) / 2\n",
    "df.weight.loc[203] = (35+44) / 2\n",
    "df.weight.loc[222] = 6.5\n",
    "df.weight.loc[238] = 10\n",
    "df.weight.loc[265] = 55"
   ]
  },
  {
   "cell_type": "markdown",
   "metadata": {},
   "source": [
    "## clean life"
   ]
  },
  {
   "cell_type": "code",
   "execution_count": 22,
   "metadata": {},
   "outputs": [],
   "source": [
    "def life_cleaning(life_str):\n",
    "    life_str = life_str.replace('years','')\n",
    "    life_list = life_str.split('-')\n",
    "    try:\n",
    "        life_list = [int(l) for l in life_list]\n",
    "    except:\n",
    "        life_list = [0]\n",
    "    life_avg = sum(life_list) / len(life_list)\n",
    "    return life_avg"
   ]
  },
  {
   "cell_type": "code",
   "execution_count": 23,
   "metadata": {},
   "outputs": [],
   "source": [
    "df.life = df.life.apply(lambda x: life_cleaning(x))"
   ]
  },
  {
   "cell_type": "code",
   "execution_count": 24,
   "metadata": {},
   "outputs": [
    {
     "data": {
      "text/plain": [
       "96      6.5\n",
       "162     7.0\n",
       "141     7.0\n",
       "175     8.0\n",
       "168     8.0\n",
       "       ... \n",
       "40     16.0\n",
       "167    16.0\n",
       "85     17.0\n",
       "223    17.0\n",
       "213    18.0\n",
       "Name: life, Length: 262, dtype: float64"
      ]
     },
     "execution_count": 24,
     "metadata": {},
     "output_type": "execute_result"
    }
   ],
   "source": [
    "# fill in with median life\n",
    "\n",
    "# 217, 56, 69,73, 244(1214) replace with avg life\n",
    "\n",
    "life_avg = (df.life.sum() - 1214) / (len(df.life) - 5)\n",
    "replace_list = [217, 57, 69,73, 244]\n",
    "for r in replace_list:\n",
    "    df.life.loc[r] = life_avg\n",
    "df.life.sort_values()"
   ]
  },
  {
   "cell_type": "markdown",
   "metadata": {},
   "source": [
    "## Trait columns cleaning"
   ]
  },
  {
   "cell_type": "code",
   "execution_count": 25,
   "metadata": {},
   "outputs": [
    {
     "name": "stderr",
     "output_type": "stream",
     "text": [
      "/var/folders/ly/yp1zttk15gsc1kxg7rl2plgr0000gn/T/ipykernel_57658/2979420087.py:3: UserWarning: To output multiple subplots, the figure containing the passed axes is being cleared\n",
      "  df.hist(ax = ax)\n"
     ]
    },
    {
     "data": {
      "text/plain": [
       "array([[<AxesSubplot:title={'center':'life'}>,\n",
       "        <AxesSubplot:title={'center':'Affectionate With Family'}>,\n",
       "        <AxesSubplot:title={'center':'Good With Young Children'}>,\n",
       "        <AxesSubplot:title={'center':'Good With Other Dogs'}>],\n",
       "       [<AxesSubplot:title={'center':'Shedding Level'}>,\n",
       "        <AxesSubplot:title={'center':'Coat Grooming Frequency'}>,\n",
       "        <AxesSubplot:title={'center':'Drooling Level'}>,\n",
       "        <AxesSubplot:title={'center':'Openness To Strangers'}>],\n",
       "       [<AxesSubplot:title={'center':'Playfulness Level'}>,\n",
       "        <AxesSubplot:title={'center':'Watchdog/Protective Nature'}>,\n",
       "        <AxesSubplot:title={'center':'Adaptability Level'}>,\n",
       "        <AxesSubplot:title={'center':'Trainability Level'}>],\n",
       "       [<AxesSubplot:title={'center':'Energy Level'}>,\n",
       "        <AxesSubplot:title={'center':'Barking Level'}>,\n",
       "        <AxesSubplot:title={'center':'Mental Stimulation Needs'}>,\n",
       "        <AxesSubplot:title={'center':'temp'}>]], dtype=object)"
      ]
     },
     "execution_count": 25,
     "metadata": {},
     "output_type": "execute_result"
    },
    {
     "data": {
      "image/png": "[encoded data removed]",
      "text/plain": [
       "<Figure size 1080x1440 with 16 Axes>"
      ]
     },
     "metadata": {
      "needs_background": "light"
     },
     "output_type": "display_data"
    }
   ],
   "source": [
    "fig = plt.figure(figsize= (15,20))\n",
    "ax = fig.gca()\n",
    "df.hist(ax = ax)"
   ]
  },
  {
   "cell_type": "code",
   "execution_count": 26,
   "metadata": {},
   "outputs": [
    {
     "name": "stderr",
     "output_type": "stream",
     "text": [
      "/var/folders/ly/yp1zttk15gsc1kxg7rl2plgr0000gn/T/ipykernel_57658/3646928948.py:11: SettingWithCopyWarning: \n",
      "A value is trying to be set on a copy of a slice from a DataFrame\n",
      "\n",
      "See the caveats in the documentation: https://pandas.pydata.org/pandas-docs/stable/user_guide/indexing.html#returning-a-view-versus-a-copy\n",
      "  series[series == 0] = idxmax # replace 0 with idxmax\n"
     ]
    }
   ],
   "source": [
    "trait_cols = ['Affectionate With Family',\n",
    "       'Good With Young Children', 'Good With Other Dogs', 'Shedding Level',\n",
    "       'Coat Grooming Frequency', 'Drooling Level', 'Coat Type', 'Coat Length',\n",
    "       'Openness To Strangers', 'Playfulness Level',\n",
    "       'Watchdog/Protective Nature', 'Adaptability Level',\n",
    "       'Trainability Level', 'Energy Level', 'Barking Level',\n",
    "       'Mental Stimulation Needs']\n",
    "\n",
    "def clean_trait(series):\n",
    "    idxmax = series.value_counts().idxmax()\n",
    "    series[series == 0] = idxmax # replace 0 with idxmax\n",
    "    return series\n",
    "    \n",
    "for col in trait_cols:\n",
    "    df[col] = clean_trait(df[col])"
   ]
  },
  {
   "cell_type": "code",
   "execution_count": 27,
   "metadata": {},
   "outputs": [
    {
     "name": "stderr",
     "output_type": "stream",
     "text": [
      "/var/folders/ly/yp1zttk15gsc1kxg7rl2plgr0000gn/T/ipykernel_57658/2979420087.py:3: UserWarning: To output multiple subplots, the figure containing the passed axes is being cleared\n",
      "  df.hist(ax = ax)\n"
     ]
    },
    {
     "data": {
      "text/plain": [
       "array([[<AxesSubplot:title={'center':'life'}>,\n",
       "        <AxesSubplot:title={'center':'Affectionate With Family'}>,\n",
       "        <AxesSubplot:title={'center':'Good With Young Children'}>,\n",
       "        <AxesSubplot:title={'center':'Good With Other Dogs'}>],\n",
       "       [<AxesSubplot:title={'center':'Shedding Level'}>,\n",
       "        <AxesSubplot:title={'center':'Coat Grooming Frequency'}>,\n",
       "        <AxesSubplot:title={'center':'Drooling Level'}>,\n",
       "        <AxesSubplot:title={'center':'Openness To Strangers'}>],\n",
       "       [<AxesSubplot:title={'center':'Playfulness Level'}>,\n",
       "        <AxesSubplot:title={'center':'Watchdog/Protective Nature'}>,\n",
       "        <AxesSubplot:title={'center':'Adaptability Level'}>,\n",
       "        <AxesSubplot:title={'center':'Trainability Level'}>],\n",
       "       [<AxesSubplot:title={'center':'Energy Level'}>,\n",
       "        <AxesSubplot:title={'center':'Barking Level'}>,\n",
       "        <AxesSubplot:title={'center':'Mental Stimulation Needs'}>,\n",
       "        <AxesSubplot:title={'center':'temp'}>]], dtype=object)"
      ]
     },
     "execution_count": 27,
     "metadata": {},
     "output_type": "execute_result"
    },
    {
     "data": {
      "image/png": "[encoded data removed]",
      "text/plain": [
       "<Figure size 1080x1440 with 16 Axes>"
      ]
     },
     "metadata": {
      "needs_background": "light"
     },
     "output_type": "display_data"
    }
   ],
   "source": [
    "fig = plt.figure(figsize= (15,20))\n",
    "ax = fig.gca()\n",
    "df.hist(ax = ax)"
   ]
  },
  {
   "cell_type": "markdown",
   "metadata": {},
   "source": [
    "## clean popularity rank"
   ]
  },
  {
   "cell_type": "code",
   "execution_count": 28,
   "metadata": {},
   "outputs": [],
   "source": [
    "df.popularity_rank = df.popularity_rank.apply(lambda x: int(x.replace(' of 1','')) if type(x) == str else x)\n",
    "df.popularity_rank.sort_values(ascending= False)\n",
    "# out of 197\n",
    "# assign all the Nan to be 198th\n",
    "df.popularity_rank = df.popularity_rank.where(df.popularity_rank >= 1, 198)"
   ]
  },
  {
   "cell_type": "markdown",
   "metadata": {},
   "source": [
    "## color cleaning"
   ]
  },
  {
   "cell_type": "code",
   "execution_count": 29,
   "metadata": {},
   "outputs": [],
   "source": [
    "df.color = df.color.apply(lambda x: x.split('-') if type(x) == str else x) "
   ]
  },
  {
   "cell_type": "code",
   "execution_count": 30,
   "metadata": {},
   "outputs": [
    {
     "name": "stdout",
     "output_type": "stream",
     "text": [
      "1969\n",
      "417\n"
     ]
    }
   ],
   "source": [
    "s = set()\n",
    "l = []\n",
    "\n",
    "for c in df.color:\n",
    "    if type(c) is not list:\n",
    "        l = l + []\n",
    "    else:\n",
    "        l = l + c\n",
    "\n",
    "for c in df.color:\n",
    "    if type(c) is list:\n",
    "        s = s.union(set(c))\n",
    "\n",
    "\n",
    "print(len(l))\n",
    "print(len(s))"
   ]
  },
  {
   "cell_type": "markdown",
   "metadata": {},
   "source": [
    "## mark cleaning"
   ]
  },
  {
   "cell_type": "code",
   "execution_count": 31,
   "metadata": {},
   "outputs": [],
   "source": [
    "df.marking = df.marking.apply(lambda x: x.split('-') if type(x) == str else x) "
   ]
  },
  {
   "cell_type": "code",
   "execution_count": 32,
   "metadata": {},
   "outputs": [
    {
     "name": "stdout",
     "output_type": "stream",
     "text": [
      "593\n",
      "134\n"
     ]
    }
   ],
   "source": [
    "s = set()\n",
    "l = []\n",
    "\n",
    "for c in df.marking:\n",
    "    if type(c) is not list:\n",
    "        l = l + []\n",
    "    else:\n",
    "        l = l + c\n",
    "\n",
    "for c in df.marking:\n",
    "    if type(c) is list:\n",
    "        s = s.union(set(c))\n",
    "\n",
    "\n",
    "print(len(l))\n",
    "print(len(s))"
   ]
  },
  {
   "cell_type": "code",
   "execution_count": 34,
   "metadata": {},
   "outputs": [],
   "source": [
    "df_new_name_list = df.dog"
   ]
  },
  {
   "cell_type": "code",
   "execution_count": 35,
   "metadata": {},
   "outputs": [
    {
     "data": {
      "text/plain": [
       "{'alaskan-klee-kai',\n",
       " 'american-leopard-hound',\n",
       " 'australian-kelpie',\n",
       " 'australian-stumpy-tail-cattle-dog',\n",
       " 'barbado-da-terceira',\n",
       " 'beagle',\n",
       " 'cane-corso',\n",
       " 'drentsche-patrijshond',\n",
       " 'german-spitz',\n",
       " 'japanese-terrier',\n",
       " 'jindo',\n",
       " 'kai-ken',\n",
       " 'lagotto-romagnolo',\n",
       " 'mountain-cur',\n",
       " 'nederlandse-kooikerhondje',\n",
       " 'romanian-carpathian-shepherd',\n",
       " 'romanian-mioritic-shepherd-dog',\n",
       " 'segugio-italiano',\n",
       " 'slovakian-wirehaired-pointer',\n",
       " 'spinone-italiano',\n",
       " 'toy-fox-terrier'}"
      ]
     },
     "execution_count": 35,
     "metadata": {},
     "output_type": "execute_result"
    }
   ],
   "source": [
    "set(name_original_list) - set(df_new_name_list)"
   ]
  },
  {
   "cell_type": "code",
   "execution_count": null,
   "metadata": {},
   "outputs": [],
   "source": [
    "df.to_csv('dog_data_clean.csv')"
   ]
  }
 ],
 "metadata": {
  "kernelspec": {
   "display_name": "Python 3.9.12 ('base')",
   "language": "python",
   "name": "python3"
  },
  "language_info": {
   "codemirror_mode": {
    "name": "ipython",
    "version": 3
   },
   "file_extension": ".py",
   "mimetype": "text/x-python",
   "name": "python",
   "nbconvert_exporter": "python",
   "pygments_lexer": "ipython3",
   "version": "3.9.12"
  },
  "orig_nbformat": 4,
  "vscode": {
   "interpreter": {
    "hash": "29f9ce33f6c884e3855952bfd7c8e1ec7ab3eef33d7abd85991a8524700c864f"
   }
  }
 },
 "nbformat": 4,
 "nbformat_minor": 2
}
