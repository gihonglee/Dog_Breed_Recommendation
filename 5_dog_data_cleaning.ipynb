{
 "cells": [
  {
   "cell_type": "code",
   "execution_count": null,
   "metadata": {},
   "outputs": [],
   "source": [
    "import numpy as np\n",
    "import pandas as pd\n",
    "import seaborn as sns\n",
    "import matplotlib.pyplot as plt"
   ]
  },
  {
   "cell_type": "code",
   "execution_count": null,
   "metadata": {},
   "outputs": [],
   "source": [
    "df = pd.read_csv(\"dog_data_09032022.csv\")\n",
    "df.tail(3)"
   ]
  },
  {
   "cell_type": "markdown",
   "metadata": {},
   "source": [
    "## Data Cleaning\n",
    "- Drop unneccsary columns\n",
    "- Clean height\n",
    "    - drop all Nan Rows\n",
    "    - Choose one unit, male and standard\n",
    "    "
   ]
  },
  {
   "cell_type": "code",
   "execution_count": null,
   "metadata": {},
   "outputs": [],
   "source": [
    "# Let's tackle one column after another\n",
    "# drop first unnamed column\n",
    "df = df.drop(df.columns[0], axis=1)\n",
    "df.tail(2)\n",
    "print(df.shape)"
   ]
  },
  {
   "cell_type": "code",
   "execution_count": null,
   "metadata": {},
   "outputs": [],
   "source": [
    "df['temp'] = df.height.apply(lambda x: len(str(x).split('~')))"
   ]
  },
  {
   "cell_type": "code",
   "execution_count": null,
   "metadata": {},
   "outputs": [],
   "source": [
    "# remove all Nan rows\n",
    "# print(df.shape)\n",
    "# df = df[df['height'].notna()]\n",
    "# print(df.shape)"
   ]
  },
  {
   "cell_type": "markdown",
   "metadata": {},
   "source": [
    "## Height Cleaning"
   ]
  },
  {
   "cell_type": "code",
   "execution_count": null,
   "metadata": {},
   "outputs": [],
   "source": [
    "# we want to get regular, male, standard\n",
    "def height_separate(height_str):\n",
    "    height_str = height_str.lower()\n",
    "    if 'male' in height_str:\n",
    "        height_str = height_str.split('(male')[0]\n",
    "    elif 'standard' in height_str:\n",
    "        height_str_list = height_str.split('~')\n",
    "        for height_str_iter in height_str_list:\n",
    "            if '(standard)' in height_str_iter:\n",
    "                height_str = height_str_iter\n",
    "        height_str = height_str.split('(standard)')[0]\n",
    "        \n",
    "    # remove inches\n",
    "    height_str = height_str.replace('inches',\"\")\n",
    "    height_str = height_str.replace('pounds',\"\")\n",
    "    height_str = height_str.replace('~',\"\")\n",
    "        \n",
    "    return height_str\n",
    "\n",
    "def height_str_to_val(height_str):\n",
    "    height_str = height_str.split('-')\n",
    "    height_val_list = []\n",
    "    for height_digit in height_str:\n",
    "        try: \n",
    "            height_val = float(height_digit)\n",
    "            height_val_list.append(height_val)\n",
    "        except:\n",
    "            return height_str\n",
    "    return sum(height_val_list) / len(height_val_list)\n",
    "\n"
   ]
  },
  {
   "cell_type": "code",
   "execution_count": null,
   "metadata": {},
   "outputs": [],
   "source": [
    "df['height'] = df.height.apply(lambda x : height_separate(x) if type(x) == str else \"NA\")"
   ]
  },
  {
   "cell_type": "code",
   "execution_count": null,
   "metadata": {},
   "outputs": [],
   "source": [
    "df['height'] = df.height.apply(lambda x : height_str_to_val(x))"
   ]
  },
  {
   "cell_type": "code",
   "execution_count": null,
   "metadata": {},
   "outputs": [],
   "source": [
    "h_list = []\n",
    "for h in df['height']:\n",
    "    if type(h) == float:\n",
    "        h_list.append(h)\n",
    "\n",
    "h_mean = sum(h_list) / len(h_list)\n",
    "print(h_mean)"
   ]
  },
  {
   "cell_type": "code",
   "execution_count": null,
   "metadata": {},
   "outputs": [],
   "source": [
    "df['height'] = df['height'].apply(lambda x : h_mean if x == [\"NA\"] else x)"
   ]
  },
  {
   "cell_type": "code",
   "execution_count": null,
   "metadata": {},
   "outputs": [],
   "source": [
    "idx_list = []\n",
    "for i,h in zip(df.index,df.height):\n",
    "    if type(h) is not float:\n",
    "        idx_list.append(i)\n",
    "        print(h)\n",
    "print(idx_list)"
   ]
  },
  {
   "cell_type": "code",
   "execution_count": null,
   "metadata": {},
   "outputs": [],
   "source": [
    "df.height.loc[22] = (20.5 + 22) / 2\n",
    "df.height.loc[26] = 15\n",
    "df.height.loc[28] = 20\n",
    "df.height.loc[50] = 28\n",
    "df.height.loc[73] = (22.5 + 27.5) / 2\n",
    "df.height.loc[88] = (23.5 + 25.5) / 2\n",
    "df.height.loc[141] = 32\n",
    "df.height.loc[154] = 27.5\n",
    "df.height.loc[168] = 30\n",
    "df.height.loc[177] = 28\n",
    "df.height.loc[185] = 22\n",
    "df.height.loc[192] = (15.75+19.75) / 2\n",
    "df.height.loc[200] = 15\n",
    "df.height.loc[201] = 10\n",
    "df.height.loc[203] = (16 +22) / 2\n",
    "df.height.loc[212] = 30.5\n",
    "df.height.loc[232] = (19.5+24.5) / 2\n",
    "df.height.loc[245] = 15.5\n",
    "df.height.loc[247] = (28+35) / 2\n",
    "df.height.loc[259] = 26\n",
    "df.height.loc[263] = 21.5\n",
    "df.height.loc[276] = 15.5"
   ]
  },
  {
   "cell_type": "markdown",
   "metadata": {},
   "source": [
    "## Weight Cleaning"
   ]
  },
  {
   "cell_type": "code",
   "execution_count": null,
   "metadata": {},
   "outputs": [],
   "source": [
    "df['weight'] = df.weight.apply(lambda x : height_separate(x) if type(x) == str else \"NA\")\n",
    "df['weight'] = df.weight.apply(lambda x : height_str_to_val(x))"
   ]
  },
  {
   "cell_type": "code",
   "execution_count": null,
   "metadata": {},
   "outputs": [],
   "source": [
    "import statistics\n",
    "w_list = []\n",
    "for w in df['weight']:\n",
    "    if type(w) == float:\n",
    "        w_list.append(w)\n",
    "\n",
    "w_mean = sum(w_list) / len(w_list)\n",
    "print(w_mean)"
   ]
  },
  {
   "cell_type": "code",
   "execution_count": null,
   "metadata": {},
   "outputs": [],
   "source": [
    "df['weight'] = df['weight'].apply(lambda x : w_mean if x == [\"NA\"] else x)"
   ]
  },
  {
   "cell_type": "code",
   "execution_count": null,
   "metadata": {},
   "outputs": [],
   "source": [
    "idx_list = []\n",
    "for i,h in zip(df.index,df.weight):\n",
    "    if type(h) is not float:\n",
    "        idx_list.append(i)\n",
    "        print(h)\n",
    "print(idx_list)"
   ]
  },
  {
   "cell_type": "code",
   "execution_count": null,
   "metadata": {},
   "outputs": [],
   "source": [
    "df.weight.loc[73] = (88 + 110)/2\n",
    "df.weight.loc[76] = 6\n",
    "df.weight.loc[88] = (44 + 57)/2\n",
    "df.weight.loc[96] = 110\n",
    "df.weight.loc[112] = 28\n",
    "df.weight.loc[126] = 100\n",
    "df.weight.loc[154] = 100\n",
    "df.weight.loc[165] = 7\n",
    "df.weight.loc[167] = 12\n",
    "df.weight.loc[189] = 14\n",
    "df.weight.loc[190] = 30\n",
    "df.weight.loc[192] = (17.5+26.5) / 2\n",
    "df.weight.loc[203] = (35+44) / 2\n",
    "df.weight.loc[222] = 6.5\n",
    "df.weight.loc[238] = 10\n",
    "df.weight.loc[265] = 55"
   ]
  },
  {
   "cell_type": "markdown",
   "metadata": {},
   "source": [
    "## clean life"
   ]
  },
  {
   "cell_type": "code",
   "execution_count": null,
   "metadata": {},
   "outputs": [],
   "source": [
    "def life_cleaning(life_str):\n",
    "    life_str = str(life_str)\n",
    "    life_str = life_str.replace('years','')\n",
    "    life_list = life_str.split('-')\n",
    "    try:\n",
    "        life_list = [int(l) for l in life_list]\n",
    "    except:\n",
    "        life_list = [0]\n",
    "    life_avg = sum(life_list) / len(life_list)\n",
    "    return life_avg"
   ]
  },
  {
   "cell_type": "code",
   "execution_count": null,
   "metadata": {},
   "outputs": [],
   "source": [
    "df.life.value_counts()"
   ]
  },
  {
   "cell_type": "code",
   "execution_count": null,
   "metadata": {},
   "outputs": [],
   "source": [
    "df.life = df.life.apply(lambda x: life_cleaning(x))"
   ]
  },
  {
   "cell_type": "code",
   "execution_count": null,
   "metadata": {},
   "outputs": [],
   "source": [
    "df.life.value_counts()"
   ]
  },
  {
   "cell_type": "code",
   "execution_count": null,
   "metadata": {},
   "outputs": [],
   "source": [
    "# fill in with median life\n",
    "# 0 : 5\n",
    "# 1214 : 1\n",
    "\n",
    "life_avg = (df.life.sum() - 1214) / (len(df.life) - 5)\n",
    "df['life'] = df['life'].apply(lambda x: life_avg if (x == 0 or x == 1214) else x)\n"
   ]
  },
  {
   "cell_type": "markdown",
   "metadata": {},
   "source": [
    "## Trait columns cleaning"
   ]
  },
  {
   "cell_type": "code",
   "execution_count": null,
   "metadata": {},
   "outputs": [],
   "source": [
    "fig = plt.figure(figsize= (15,20))\n",
    "ax = fig.gca()\n",
    "df.hist(ax = ax)"
   ]
  },
  {
   "cell_type": "code",
   "execution_count": null,
   "metadata": {},
   "outputs": [],
   "source": [
    "trait_cols = ['Affectionate With Family',\n",
    "       'Good With Young Children', 'Good With Other Dogs', 'Shedding Level',\n",
    "       'Coat Grooming Frequency', 'Drooling Level', 'Coat Type', 'Coat Length',\n",
    "       'Openness To Strangers', 'Playfulness Level',\n",
    "       'Watchdog/Protective Nature', 'Adaptability Level',\n",
    "       'Trainability Level', 'Energy Level', 'Barking Level',\n",
    "       'Mental Stimulation Needs']\n",
    "\n",
    "def clean_trait(series):\n",
    "    idxmax = series.value_counts().idxmax()\n",
    "    series[series == 0] = idxmax # replace 0 with idxmax\n",
    "    return series\n",
    "    \n",
    "for col in trait_cols:\n",
    "    df[col] = clean_trait(df[col])"
   ]
  },
  {
   "cell_type": "code",
   "execution_count": null,
   "metadata": {},
   "outputs": [],
   "source": [
    "fig = plt.figure(figsize= (15,20))\n",
    "ax = fig.gca()\n",
    "df.hist(ax = ax)"
   ]
  },
  {
   "cell_type": "markdown",
   "metadata": {},
   "source": [
    "## clean popularity rank"
   ]
  },
  {
   "cell_type": "code",
   "execution_count": null,
   "metadata": {},
   "outputs": [],
   "source": [
    "df.popularity_rank = df.popularity_rank.apply(lambda x: int(x.replace(' of 1','')) if type(x) == str else x)\n",
    "df.popularity_rank.sort_values(ascending= False)\n",
    "# out of 197\n",
    "# assign all the Nan to be 198th\n",
    "df.popularity_rank = df.popularity_rank.where(df.popularity_rank >= 1, 198)"
   ]
  },
  {
   "cell_type": "markdown",
   "metadata": {},
   "source": [
    "## clean coat_length"
   ]
  },
  {
   "cell_type": "code",
   "execution_count": null,
   "metadata": {},
   "outputs": [],
   "source": [
    "def coat_length_convert(coat_length):\n",
    "\n",
    "    coat_length = str(coat_length).lower()\n",
    "\n",
    "    if 'long' in coat_length:\n",
    "        return 3\n",
    "    elif 'medium' in coat_length:\n",
    "        return 2\n",
    "    elif 'short' in coat_length:\n",
    "        return 1\n",
    "    else:\n",
    "        return 2\n",
    "\n",
    "df[\"Coat Length\"] = df[\"Coat Length\"].apply(lambda x: coat_length_convert(x))"
   ]
  },
  {
   "cell_type": "markdown",
   "metadata": {},
   "source": [
    "## clean coat_length"
   ]
  },
  {
   "cell_type": "code",
   "execution_count": null,
   "metadata": {},
   "outputs": [],
   "source": [
    "df['Coat Type'].value_counts()\n",
    "\n",
    "# smooth, double, others\n",
    "\n",
    "def coat_type_convert(coat_type):\n",
    "\n",
    "    coat_type = str(coat_type).lower()\n",
    "\n",
    "    if 'smooth' in coat_type:\n",
    "        return 'smooth'\n",
    "    elif 'double' in coat_type:\n",
    "        return 'double'\n",
    "    else:\n",
    "        return 'others'\n",
    "\n",
    "df[\"Coat Type\"] = df[\"Coat Type\"].apply(lambda x: coat_type_convert(x))\n",
    "df[\"Coat Type\"].value_counts()"
   ]
  },
  {
   "cell_type": "markdown",
   "metadata": {},
   "source": [
    "## color cleaning"
   ]
  },
  {
   "cell_type": "code",
   "execution_count": null,
   "metadata": {},
   "outputs": [],
   "source": [
    "def color_split(color_str):\n",
    "    color_str = str(color_str)\n",
    "    color_list = list(set(color_str.replace('-','/').replace(' & ','/').split('/')))\n",
    "    return color_list"
   ]
  },
  {
   "cell_type": "code",
   "execution_count": null,
   "metadata": {},
   "outputs": [],
   "source": [
    "df.color = df.color.apply(lambda x: color_split(x))"
   ]
  },
  {
   "cell_type": "code",
   "execution_count": null,
   "metadata": {},
   "outputs": [],
   "source": [
    "color_set = {}\n",
    "for c_list in df.color:\n",
    "    for c in c_list:\n",
    "        if c in color_set:\n",
    "            color_set[c] = color_set[c] +1\n",
    "        else:\n",
    "            color_set[c] = 1\n",
    "pd.Series(color_set).sort_values(ascending = False).head(5)\n",
    "\n",
    "# Black             180\n",
    "# White             157\n",
    "# Red               121\n",
    "# Tan               100\n",
    "# Fawn               72\n",
    "\n",
    "# Above 5 colors are the most popular color in dogs\n",
    "# let's create black, white, red columns\n"
   ]
  },
  {
   "cell_type": "code",
   "execution_count": null,
   "metadata": {},
   "outputs": [],
   "source": [
    "df['color'] = df['color'].apply(lambda x : [i.lower() for i in x] )"
   ]
  },
  {
   "cell_type": "code",
   "execution_count": null,
   "metadata": {},
   "outputs": [],
   "source": [
    "def contains_word(color_list,str):\n",
    "    for c in color_list:\n",
    "        if str in c:\n",
    "            return 1\n",
    "    return 0\n"
   ]
  },
  {
   "cell_type": "code",
   "execution_count": null,
   "metadata": {},
   "outputs": [],
   "source": [
    "df['black_color'] = df['color'].apply(lambda x: contains_word(x,'black'))\n",
    "df['white_color'] = df['color'].apply(lambda x: contains_word(x,'white'))\n",
    "df['red_color'] = df['color'].apply(lambda x: contains_word(x,'red'))"
   ]
  },
  {
   "cell_type": "code",
   "execution_count": null,
   "metadata": {},
   "outputs": [],
   "source": [
    "s = set()\n",
    "l = []\n",
    "\n",
    "for c in df.color:\n",
    "    if type(c) is not list:\n",
    "        l = l + []\n",
    "    else:\n",
    "        l = l + c\n",
    "\n",
    "for c in df.color:\n",
    "    if type(c) is list:\n",
    "        s = s.union(set(c))"
   ]
  },
  {
   "cell_type": "markdown",
   "metadata": {},
   "source": [
    "## mark cleaning"
   ]
  },
  {
   "cell_type": "code",
   "execution_count": null,
   "metadata": {},
   "outputs": [],
   "source": [
    "df.marking = df.marking.apply(lambda x: x.split('-') if type(x) == str else x) "
   ]
  },
  {
   "cell_type": "code",
   "execution_count": null,
   "metadata": {},
   "outputs": [],
   "source": [
    "s = set()\n",
    "l = []\n",
    "\n",
    "for c in df.marking:\n",
    "    if type(c) is not list:\n",
    "        l = l + []\n",
    "    else:\n",
    "        l = l + c\n",
    "\n",
    "for c in df.marking:\n",
    "    if type(c) is list:\n",
    "        s = s.union(set(c))\n",
    "\n",
    "\n",
    "print(len(l))\n",
    "print(len(s))"
   ]
  },
  {
   "cell_type": "code",
   "execution_count": null,
   "metadata": {},
   "outputs": [],
   "source": [
    "df['marking'] = df['marking'].apply(lambda x: 0 if x is np.nan else 1)"
   ]
  },
  {
   "cell_type": "code",
   "execution_count": null,
   "metadata": {},
   "outputs": [],
   "source": [
    "pd.set_option('display.max_columns', None)"
   ]
  },
  {
   "cell_type": "code",
   "execution_count": null,
   "metadata": {},
   "outputs": [],
   "source": [
    "#df = df.drop(['color','health','grooming','excercise','training','nutrition','temp'],axis = 1)\n",
    "df = pd.get_dummies(df, columns = ['Coat Type'])"
   ]
  },
  {
   "cell_type": "code",
   "execution_count": null,
   "metadata": {},
   "outputs": [],
   "source": [
    "df.to_csv('dog_data_clean.csv')"
   ]
  },
  {
   "cell_type": "code",
   "execution_count": null,
   "metadata": {},
   "outputs": [],
   "source": []
  }
 ],
 "metadata": {
  "kernelspec": {
   "display_name": "Python 3.9.12 ('base')",
   "language": "python",
   "name": "python3"
  },
  "language_info": {
   "codemirror_mode": {
    "name": "ipython",
    "version": 3
   },
   "file_extension": ".py",
   "mimetype": "text/x-python",
   "name": "python",
   "nbconvert_exporter": "python",
   "pygments_lexer": "ipython3",
   "version": "3.9.12"
  },
  "orig_nbformat": 4,
  "vscode": {
   "interpreter": {
    "hash": "29f9ce33f6c884e3855952bfd7c8e1ec7ab3eef33d7abd85991a8524700c864f"
   }
  }
 },
 "nbformat": 4,
 "nbformat_minor": 2
}
