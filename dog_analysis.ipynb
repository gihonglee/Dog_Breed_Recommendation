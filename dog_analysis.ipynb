{
 "cells": [
  {
   "cell_type": "markdown",
   "metadata": {},
   "source": [
    "# Dog Breed Analysis\n",
    "![alt text](puppytraining.jpeg \"Title\")\n",
    "1. Data cleaning\n",
    "2. EDA\n",
    "3. PCA / Recommendation\n",
    "    - Euclidian distance\n",
    "    - PCA with K mean clustering\n",
    "    - matrix factorization\n",
    "4. Compare"
   ]
  },
  {
   "cell_type": "code",
   "execution_count": 84,
   "metadata": {},
   "outputs": [],
   "source": [
    "import pandas as pd\n",
    "import numpy as np\n",
    "import matplotlib.pyplot as plt"
   ]
  },
  {
   "cell_type": "code",
   "execution_count": 85,
   "metadata": {},
   "outputs": [],
   "source": [
    "df = pd.read_csv(\"dog_data.csv\")"
   ]
  },
  {
   "cell_type": "code",
   "execution_count": 98,
   "metadata": {},
   "outputs": [
    {
     "data": {
      "text/html": [
       "<div>\n",
       "<style scoped>\n",
       "    .dataframe tbody tr th:only-of-type {\n",
       "        vertical-align: middle;\n",
       "    }\n",
       "\n",
       "    .dataframe tbody tr th {\n",
       "        vertical-align: top;\n",
       "    }\n",
       "\n",
       "    .dataframe thead th {\n",
       "        text-align: right;\n",
       "    }\n",
       "</style>\n",
       "<table border=\"1\" class=\"dataframe\">\n",
       "  <thead>\n",
       "    <tr style=\"text-align: right;\">\n",
       "      <th></th>\n",
       "      <th>dog</th>\n",
       "      <th>popularity_rank_c</th>\n",
       "      <th>height_c</th>\n",
       "      <th>weight_c</th>\n",
       "      <th>life_c</th>\n",
       "      <th>Coat_Length_c</th>\n",
       "      <th>coat_c</th>\n",
       "      <th>Affectionate With Family</th>\n",
       "      <th>Good With Young Children</th>\n",
       "      <th>Good With Other Dogs</th>\n",
       "      <th>...</th>\n",
       "      <th>Trainability Level</th>\n",
       "      <th>Energy Level</th>\n",
       "      <th>Barking Level</th>\n",
       "      <th>Mental Stimulation Needs</th>\n",
       "      <th>breed_info</th>\n",
       "      <th>health</th>\n",
       "      <th>grooming</th>\n",
       "      <th>excercise</th>\n",
       "      <th>training</th>\n",
       "      <th>nutrition</th>\n",
       "    </tr>\n",
       "  </thead>\n",
       "  <tbody>\n",
       "    <tr>\n",
       "      <th>6</th>\n",
       "      <td>American-Bulldog</td>\n",
       "      <td>NaN</td>\n",
       "      <td>22.5</td>\n",
       "      <td>78.75</td>\n",
       "      <td>11.0</td>\n",
       "      <td>1.0</td>\n",
       "      <td>Smooth</td>\n",
       "      <td>0</td>\n",
       "      <td>3</td>\n",
       "      <td>3</td>\n",
       "      <td>...</td>\n",
       "      <td>4</td>\n",
       "      <td>0</td>\n",
       "      <td>1</td>\n",
       "      <td>0</td>\n",
       "      <td>American Bulldogs are a well-balanced athletic...</td>\n",
       "      <td>Owning a dog is not just a privilege; it’s a r...</td>\n",
       "      <td>The American Bulldog is considered a healthy b...</td>\n",
       "      <td>Grooming your American Bulldog can be a pretty...</td>\n",
       "      <td>The American Bulldog is an athlete. For puppie...</td>\n",
       "      <td>Early socialization and puppy training classes...</td>\n",
       "    </tr>\n",
       "    <tr>\n",
       "      <th>22</th>\n",
       "      <td>Barbado-da-Terceira</td>\n",
       "      <td>NaN</td>\n",
       "      <td>21.0</td>\n",
       "      <td>NaN</td>\n",
       "      <td>13.0</td>\n",
       "      <td>2.0</td>\n",
       "      <td>Wiry</td>\n",
       "      <td>0</td>\n",
       "      <td>4</td>\n",
       "      <td>3</td>\n",
       "      <td>...</td>\n",
       "      <td>5</td>\n",
       "      <td>5</td>\n",
       "      <td>5</td>\n",
       "      <td>0</td>\n",
       "      <td>The Barbado da Terceira is a medium-sized herd...</td>\n",
       "      <td>Owning a dog is not just a privilege; it’s a r...</td>\n",
       "      <td>The Barbado   da Terceira has a propensity for...</td>\n",
       "      <td>The Barbado da Terceira should be bathed only ...</td>\n",
       "      <td>Daily exercise is crucial. These dogs are so s...</td>\n",
       "      <td>The Barbado da Terceira is an assertive breed....</td>\n",
       "    </tr>\n",
       "    <tr>\n",
       "      <th>195</th>\n",
       "      <td>Plott-Hound</td>\n",
       "      <td>0.153465</td>\n",
       "      <td>22.5</td>\n",
       "      <td>55.00</td>\n",
       "      <td>13.0</td>\n",
       "      <td>NaN</td>\n",
       "      <td>NaN</td>\n",
       "      <td>0</td>\n",
       "      <td>0</td>\n",
       "      <td>0</td>\n",
       "      <td>...</td>\n",
       "      <td>0</td>\n",
       "      <td>0</td>\n",
       "      <td>0</td>\n",
       "      <td>0</td>\n",
       "      <td>The Plott, a hound with a curious name and a u...</td>\n",
       "      <td>Owning a dog is not just a privilege; it’s a r...</td>\n",
       "      <td>Plotts are generally healthy dogs. A responsib...</td>\n",
       "      <td>The Plott's smooth, fine, glossy coat can be a...</td>\n",
       "      <td>Plotts are tough, relentless athletes requirin...</td>\n",
       "      <td>The Plott is intelligent, alert, and confident...</td>\n",
       "    </tr>\n",
       "    <tr>\n",
       "      <th>274</th>\n",
       "      <td>Wetterhoun</td>\n",
       "      <td>NaN</td>\n",
       "      <td>23.0</td>\n",
       "      <td>62.50</td>\n",
       "      <td>13.0</td>\n",
       "      <td>2.0</td>\n",
       "      <td>Curly</td>\n",
       "      <td>0</td>\n",
       "      <td>0</td>\n",
       "      <td>0</td>\n",
       "      <td>...</td>\n",
       "      <td>0</td>\n",
       "      <td>0</td>\n",
       "      <td>0</td>\n",
       "      <td>0</td>\n",
       "      <td>The Wetterhoun, although originally bred for h...</td>\n",
       "      <td>Owning a dog is not just a privilege; it’s a r...</td>\n",
       "      <td>The Wetterhoun is a pretty healthy breed, even...</td>\n",
       "      <td>The Wetterhoun requires minimal grooming.  The...</td>\n",
       "      <td>Daily exercise is good for the physical and me...</td>\n",
       "      <td>The Wetterhoun can be strong willed however th...</td>\n",
       "    </tr>\n",
       "  </tbody>\n",
       "</table>\n",
       "<p>4 rows × 27 columns</p>\n",
       "</div>"
      ],
      "text/plain": [
       "                     dog  popularity_rank_c  height_c  weight_c  life_c  \\\n",
       "6       American-Bulldog                NaN      22.5     78.75    11.0   \n",
       "22   Barbado-da-Terceira                NaN      21.0       NaN    13.0   \n",
       "195          Plott-Hound           0.153465      22.5     55.00    13.0   \n",
       "274           Wetterhoun                NaN      23.0     62.50    13.0   \n",
       "\n",
       "     Coat_Length_c  coat_c  Affectionate With Family  \\\n",
       "6              1.0  Smooth                         0   \n",
       "22             2.0    Wiry                         0   \n",
       "195            NaN     NaN                         0   \n",
       "274            2.0   Curly                         0   \n",
       "\n",
       "     Good With Young Children  Good With Other Dogs  ...  Trainability Level  \\\n",
       "6                           3                     3  ...                   4   \n",
       "22                          4                     3  ...                   5   \n",
       "195                         0                     0  ...                   0   \n",
       "274                         0                     0  ...                   0   \n",
       "\n",
       "     Energy Level  Barking Level  Mental Stimulation Needs  \\\n",
       "6               0              1                         0   \n",
       "22              5              5                         0   \n",
       "195             0              0                         0   \n",
       "274             0              0                         0   \n",
       "\n",
       "                                            breed_info  \\\n",
       "6    American Bulldogs are a well-balanced athletic...   \n",
       "22   The Barbado da Terceira is a medium-sized herd...   \n",
       "195  The Plott, a hound with a curious name and a u...   \n",
       "274  The Wetterhoun, although originally bred for h...   \n",
       "\n",
       "                                                health  \\\n",
       "6    Owning a dog is not just a privilege; it’s a r...   \n",
       "22   Owning a dog is not just a privilege; it’s a r...   \n",
       "195  Owning a dog is not just a privilege; it’s a r...   \n",
       "274  Owning a dog is not just a privilege; it’s a r...   \n",
       "\n",
       "                                              grooming  \\\n",
       "6    The American Bulldog is considered a healthy b...   \n",
       "22   The Barbado   da Terceira has a propensity for...   \n",
       "195  Plotts are generally healthy dogs. A responsib...   \n",
       "274  The Wetterhoun is a pretty healthy breed, even...   \n",
       "\n",
       "                                             excercise  \\\n",
       "6    Grooming your American Bulldog can be a pretty...   \n",
       "22   The Barbado da Terceira should be bathed only ...   \n",
       "195  The Plott's smooth, fine, glossy coat can be a...   \n",
       "274  The Wetterhoun requires minimal grooming.  The...   \n",
       "\n",
       "                                              training  \\\n",
       "6    The American Bulldog is an athlete. For puppie...   \n",
       "22   Daily exercise is crucial. These dogs are so s...   \n",
       "195  Plotts are tough, relentless athletes requirin...   \n",
       "274  Daily exercise is good for the physical and me...   \n",
       "\n",
       "                                             nutrition  \n",
       "6    Early socialization and puppy training classes...  \n",
       "22   The Barbado da Terceira is an assertive breed....  \n",
       "195  The Plott is intelligent, alert, and confident...  \n",
       "274  The Wetterhoun can be strong willed however th...  \n",
       "\n",
       "[4 rows x 27 columns]"
      ]
     },
     "execution_count": 98,
     "metadata": {},
     "output_type": "execute_result"
    }
   ],
   "source": [
    "df.head(3)"
   ]
  },
  {
   "cell_type": "code",
   "execution_count": 87,
   "metadata": {},
   "outputs": [
    {
     "data": {
      "text/plain": [
       "Index(['Unnamed: 0', 'dog', 'height', 'weight', 'life_expectancy',\n",
       "       'Affectionate With Family', 'Good With Young Children',\n",
       "       'Good With Other Dogs', 'Shedding Level', 'Coat Grooming Frequency',\n",
       "       'Drooling Level', 'Coat Type', 'Coat Length', 'Openness To Strangers',\n",
       "       'Playfulness Level', 'Watchdog/Protective Nature', 'Adaptability Level',\n",
       "       'Trainability Level', 'Energy Level', 'Barking Level',\n",
       "       'Mental Stimulation Needs', 'popularity_rank', 'color', 'marking',\n",
       "       'breed_info', 'health', 'grooming', 'excercise', 'training',\n",
       "       'nutrition'],\n",
       "      dtype='object')"
      ]
     },
     "execution_count": 87,
     "metadata": {},
     "output_type": "execute_result"
    }
   ],
   "source": [
    "df.columns"
   ]
  },
  {
   "cell_type": "markdown",
   "metadata": {},
   "source": [
    "### 1. Data Cleaning\n",
    "#### we will be cleaning height, weight, life expectancy and poplarity ranking"
   ]
  },
  {
   "cell_type": "code",
   "execution_count": 88,
   "metadata": {},
   "outputs": [],
   "source": [
    "# Let's do data cleaning for height, weight, life expectancy, popularity ranking\n",
    "\n",
    "\n",
    "def is_number(string):\n",
    "    try:\n",
    "        float(string)\n",
    "        return True\n",
    "    except ValueError:\n",
    "        return False\n",
    "\n",
    "def hwl_clean(height): # height weight life clean\n",
    "    height = str(height)\n",
    "    height_list = height.split('-')\n",
    "    result = []\n",
    "    for word in height_list:\n",
    "        result = result + word.split(\" \")\n",
    "    avg_val = 0\n",
    "    count = 0\n",
    "    for i in result:\n",
    "        if is_number(i):\n",
    "            count = count +1\n",
    "            avg_val = avg_val + float(i)\n",
    "    if count != 0:\n",
    "        avg_val = avg_val / count\n",
    "        return avg_val\n",
    "    else:\n",
    "        return 0\n",
    "\n",
    "df['height_c'] = df['height'].apply(hwl_clean)\n",
    "df['weight_c'] = df['weight'].apply(hwl_clean)\n",
    "df['life_c'] = df['life_expectancy'].apply(hwl_clean)\n",
    "df.drop(['height','weight','life_expectancy'], axis = 1,inplace = True)"
   ]
  },
  {
   "cell_type": "code",
   "execution_count": 89,
   "metadata": {},
   "outputs": [
    {
     "data": {
      "text/plain": [
       "height_c    10\n",
       "weight_c    20\n",
       "life_c       2\n",
       "dtype: int64"
      ]
     },
     "execution_count": 89,
     "metadata": {},
     "output_type": "execute_result"
    }
   ],
   "source": [
    "df[['height_c','weight_c','life_c']].isnull().sum()\n",
    "# we are missing 10,20,2 values from height, weight and life respectively"
   ]
  },
  {
   "cell_type": "code",
   "execution_count": 90,
   "metadata": {},
   "outputs": [
    {
     "data": {
      "text/plain": [
       "Short           121\n",
       "Medium          104\n",
       "Long             37\n",
       "Short-Medium      6\n",
       "Medium-Long       3\n",
       "Short-Long        1\n",
       "Name: Coat Length, dtype: int64"
      ]
     },
     "execution_count": 90,
     "metadata": {},
     "output_type": "execute_result"
    }
   ],
   "source": [
    "# Let's do data cleaning for popularity\n",
    "def popular_clean(pop):\n",
    "    if type(pop) == float:\n",
    "        return np.nan\n",
    "    else:\n",
    "        rank_list = pop.split(\" of \")\n",
    "        measure = int(rank_list[0]) / int(rank_list[1])\n",
    "        return 1 - measure\n",
    "\n",
    "df['popularity_rank_c']= df['popularity_rank'].apply(popular_clean)\n",
    "df.drop('popularity_rank', axis = 1, inplace = True)\n",
    "df['Coat Length'].value_counts()"
   ]
  },
  {
   "cell_type": "code",
   "execution_count": 91,
   "metadata": {},
   "outputs": [],
   "source": [
    "# Coat Length has to be cleaned\n",
    "df[df['Coat Length'] == 'Short-Long']\n",
    "def coatLen_clean(coat):\n",
    "    if type(coat) != float:\n",
    "        if \"Long\" in coat:\n",
    "            return 3\n",
    "        elif \"Medium\" in coat:\n",
    "            return 2\n",
    "        else:\n",
    "            return 1\n",
    "    else:\n",
    "        return np.nan\n",
    "\n",
    "df[\"Coat_Length_c\"] = df[\"Coat Length\"].apply(coatLen_clean)\n",
    "df.drop(\"Coat Length\", axis = 1, inplace= True)"
   ]
  },
  {
   "cell_type": "code",
   "execution_count": 92,
   "metadata": {},
   "outputs": [
    {
     "data": {
      "text/plain": [
       "{'Double': 130,\n",
       " 'Smooth': 102,\n",
       " 'Wiry': 35,\n",
       " 'Wavy': 25,\n",
       " 'Silky': 21,\n",
       " 'Curly': 17,\n",
       " 'Rough': 11,\n",
       " 'Corded': 4,\n",
       " 'Hairless': 3}"
      ]
     },
     "execution_count": 92,
     "metadata": {},
     "output_type": "execute_result"
    }
   ],
   "source": [
    "coat_dict = {}\n",
    "for i in df[\"Coat Type\"]:\n",
    "    if type(i) != float:\n",
    "        coat_list = i.split('-')\n",
    "        for coat in coat_list:\n",
    "            if coat not in coat_dict:\n",
    "                coat_dict[coat] = 1\n",
    "            else:\n",
    "                coat_dict[coat] = coat_dict[coat] + 1\n",
    "\n",
    "new_dict = dict(sorted(coat_dict.items(), key=lambda item: item[1], reverse= True))\n",
    "new_dict"
   ]
  },
  {
   "cell_type": "code",
   "execution_count": 93,
   "metadata": {},
   "outputs": [],
   "source": [
    "def coat_clean(coat):\n",
    "    if type(coat) != float:\n",
    "        if 'Double' in coat:\n",
    "            return 'Double'\n",
    "        elif 'Smooth' in coat:\n",
    "            return 'Smooth'\n",
    "        elif 'Wiry' in coat:\n",
    "            return 'Wiry'\n",
    "        elif 'Silky' in coat:\n",
    "            return 'Silky'\n",
    "        elif 'Curly' in coat:\n",
    "            return 'Curly'\n",
    "        elif 'Rough' in coat:\n",
    "            return 'Rough'\n",
    "        elif 'Corded' in coat:\n",
    "            return 'Corded'\n",
    "        elif 'Hairless' in coat:\n",
    "            return 'Hairless'\n",
    "    else:\n",
    "        return np.nan\n",
    "df['coat_c'] = df['Coat Type'].apply(coat_clean)\n",
    "df.drop(\"Coat Type\", axis = 1, inplace = True)\n",
    "df.drop(\"marking\", axis = 1, inplace = True)\n",
    "df.drop(\"color\", axis = 1, inplace = True)"
   ]
  },
  {
   "cell_type": "code",
   "execution_count": 94,
   "metadata": {},
   "outputs": [],
   "source": [
    "# reorganize in the way that I like to see\n",
    "\n",
    "df = df[['dog','popularity_rank_c','height_c', 'weight_c', 'life_c','Coat_Length_c', 'coat_c','Affectionate With Family',\n",
    "       'Good With Young Children', 'Good With Other Dogs', 'Shedding Level',\n",
    "       'Coat Grooming Frequency', 'Drooling Level', 'Openness To Strangers',\n",
    "       'Playfulness Level', 'Watchdog/Protective Nature', 'Adaptability Level',\n",
    "       'Trainability Level', 'Energy Level', 'Barking Level',\n",
    "       'Mental Stimulation Needs', 'breed_info', 'health', 'grooming',\n",
    "       'excercise', 'training', 'nutrition']]"
   ]
  },
  {
   "cell_type": "markdown",
   "metadata": {},
   "source": [
    "### 2. EDA\n",
    "#### 1) histogram for qunatative data\n",
    "#### 2) histogram for categorical data"
   ]
  },
  {
   "cell_type": "code",
   "execution_count": 95,
   "metadata": {},
   "outputs": [
    {
     "data": {
      "image/png": "[encoded data removed]",
      "text/plain": [
       "<Figure size 1080x720 with 20 Axes>"
      ]
     },
     "metadata": {
      "needs_background": "light"
     },
     "output_type": "display_data"
    }
   ],
   "source": [
    "df.hist(bins = 20, figsize = (15,10))\n",
    "plt.tight_layout()\n",
    "plt.show()"
   ]
  },
  {
   "cell_type": "code",
   "execution_count": 105,
   "metadata": {},
   "outputs": [
    {
     "data": {
      "text/plain": [
       "['dog',\n",
       " 'coat_c',\n",
       " 'breed_info',\n",
       " 'health',\n",
       " 'grooming',\n",
       " 'excercise',\n",
       " 'training',\n",
       " 'nutrition']"
      ]
     },
     "execution_count": 105,
     "metadata": {},
     "output_type": "execute_result"
    }
   ],
   "source": [
    "numeric_data = df.select_dtypes(include=[np.number])\n",
    "categorical_data = df.select_dtypes(exclude=[np.number])\n",
    "list(categorical_data.columns)"
   ]
  },
  {
   "cell_type": "code",
   "execution_count": 107,
   "metadata": {},
   "outputs": [
    {
     "name": "stderr",
     "output_type": "stream",
     "text": [
      "/var/folders/ph/yfqxnlss1ds28x8n8wzmqfg00000gn/T/ipykernel_61824/153697987.py:8: UserWarning:\n",
      "\n",
      "Matplotlib is currently using module://matplotlib_inline.backend_inline, which is a non-GUI backend, so cannot show the figure.\n",
      "\n"
     ]
    },
    {
     "data": {
      "image/png": "[encoded data removed]",
      "text/plain": [
       "<Figure size 1440x1080 with 6 Axes>"
      ]
     },
     "metadata": {
      "needs_background": "light"
     },
     "output_type": "display_data"
    }
   ],
   "source": [
    "categorical_features = ['coat_c']\n",
    "fig, ax = plt.subplots(2, 3, figsize = (20,15))\n",
    "fig.tight_layout()\n",
    "axe = ax.ravel()\n",
    "\n",
    "for i, categorical_feature in enumerate(df[categorical_features]):\n",
    "    df[categorical_feature].value_counts().head(10).plot(kind = \"bar\", ax=axe[i]).set_title(categorical_feature)\n",
    "fig.show()\n",
    "\n",
    "# print(len(df.columns))\n",
    "\n",
    "# # numeric_data = df.select_dtypes(include=[np.number])\n",
    "# # categorical_data = df.select_dtypes(exclude=[np.number])\n",
    "# categorical_features"
   ]
  },
  {
   "cell_type": "code",
   "execution_count": 118,
   "metadata": {},
   "outputs": [
    {
     "data": {
      "image/png": "[encoded data removed]",
      "text/plain": [
       "<Figure size 432x288 with 1 Axes>"
      ]
     },
     "metadata": {
      "needs_background": "light"
     },
     "output_type": "display_data"
    },
    {
     "data": {
      "image/png": "[encoded data removed]",
      "text/plain": [
       "<Figure size 432x288 with 6 Axes>"
      ]
     },
     "metadata": {
      "needs_background": "light"
     },
     "output_type": "display_data"
    },
    {
     "data": {
      "image/png": "[encoded data removed]",
      "text/plain": [
       "<Figure size 432x288 with 1 Axes>"
      ]
     },
     "metadata": {
      "needs_background": "light"
     },
     "output_type": "display_data"
    }
   ],
   "source": [
    "numeric_data = df.select_dtypes(include=[np.number]) \n",
    "import seaborn as sns\n",
    "\n",
    "fig, axs = plt.subplots(2, 3)\n",
    "\n",
    "# basic plot\n",
    "axs[0, 0].boxplot(df[numeric_data.columns[1]].values)\n",
    "axs[0, 0].set_title('basic plot')\n",
    "\n",
    "fig, ax = plt.subplots()\n",
    "ax.boxplot(df[numeric_data.columns[1]])\n",
    "\n",
    "plt.show()\n",
    "\n",
    "\n",
    " "
   ]
  },
  {
   "cell_type": "code",
   "execution_count": 119,
   "metadata": {},
   "outputs": [
    {
     "data": {
      "image/png": "[encoded data removed]",
      "text/plain": [
       "<Figure size 432x288 with 6 Axes>"
      ]
     },
     "metadata": {
      "needs_background": "light"
     },
     "output_type": "display_data"
    },
    {
     "data": {
      "image/png": "[encoded data removed]",
      "text/plain": [
       "<Figure size 432x288 with 1 Axes>"
      ]
     },
     "metadata": {
      "needs_background": "light"
     },
     "output_type": "display_data"
    }
   ],
   "source": [
    "import matplotlib.pyplot as plt\n",
    "import numpy as np\n",
    "from matplotlib.patches import Polygon\n",
    "\n",
    "\n",
    "# Fixing random state for reproducibility\n",
    "np.random.seed(19680801)\n",
    "\n",
    "# fake up some data\n",
    "spread = np.random.rand(50) * 100\n",
    "center = np.ones(25) * 50\n",
    "flier_high = np.random.rand(10) * 100 + 100\n",
    "flier_low = np.random.rand(10) * -100\n",
    "data = np.concatenate((spread, center, flier_high, flier_low))\n",
    "\n",
    "fig, axs = plt.subplots(2, 3)\n",
    "\n",
    "# basic plot\n",
    "axs[0, 0].boxplot(data)\n",
    "axs[0, 0].set_title('basic plot')\n",
    "\n",
    "# notched plot\n",
    "axs[0, 1].boxplot(data, 1)\n",
    "axs[0, 1].set_title('notched plot')\n",
    "\n",
    "# change outlier point symbols\n",
    "axs[0, 2].boxplot(data, 0, 'gD')\n",
    "axs[0, 2].set_title('change outlier\\npoint symbols')\n",
    "\n",
    "# don't show outlier points\n",
    "axs[1, 0].boxplot(data, 0, '')\n",
    "axs[1, 0].set_title(\"don't show\\noutlier points\")\n",
    "\n",
    "# horizontal boxes\n",
    "axs[1, 1].boxplot(data, 0, 'rs', 0)\n",
    "axs[1, 1].set_title('horizontal boxes')\n",
    "\n",
    "# change whisker length\n",
    "axs[1, 2].boxplot(data, 0, 'rs', 0, 0.75)\n",
    "axs[1, 2].set_title('change whisker length')\n",
    "\n",
    "fig.subplots_adjust(left=0.08, right=0.98, bottom=0.05, top=0.9,\n",
    "                    hspace=0.4, wspace=0.3)\n",
    "\n",
    "# fake up some more data\n",
    "spread = np.random.rand(50) * 100\n",
    "center = np.ones(25) * 40\n",
    "flier_high = np.random.rand(10) * 100 + 100\n",
    "flier_low = np.random.rand(10) * -100\n",
    "d2 = np.concatenate((spread, center, flier_high, flier_low))\n",
    "# Making a 2-D array only works if all the columns are the\n",
    "# same length.  If they are not, then use a list instead.\n",
    "# This is actually more efficient because boxplot converts\n",
    "# a 2-D array into a list of vectors internally anyway.\n",
    "data = [data, d2, d2[::2]]\n",
    "\n",
    "# Multiple box plots on one Axes\n",
    "fig, ax = plt.subplots()\n",
    "ax.boxplot(data)\n",
    "\n",
    "plt.show()"
   ]
  },
  {
   "cell_type": "markdown",
   "metadata": {},
   "source": [
    "### 3. PCA\n",
    "#### I want to see which dogs are \"similar\" in sense"
   ]
  },
  {
   "cell_type": "code",
   "execution_count": null,
   "metadata": {},
   "outputs": [
    {
     "data": {
      "text/plain": [
       "Index(['dog', 'popularity_rank_c', 'height_c', 'weight_c', 'life_c',\n",
       "       'Coat_Length_c', 'coat_c', 'Affectionate With Family',\n",
       "       'Good With Young Children', 'Good With Other Dogs', 'Shedding Level',\n",
       "       'Coat Grooming Frequency', 'Drooling Level', 'Openness To Strangers',\n",
       "       'Playfulness Level', 'Watchdog/Protective Nature', 'Adaptability Level',\n",
       "       'Trainability Level', 'Energy Level', 'Barking Level',\n",
       "       'Mental Stimulation Needs', 'breed_info', 'health', 'grooming',\n",
       "       'excercise', 'training', 'nutrition'],\n",
       "      dtype='object')"
      ]
     },
     "execution_count": 57,
     "metadata": {},
     "output_type": "execute_result"
    }
   ],
   "source": [
    "# for pca, we will be choosing\n",
    "df.columns"
   ]
  },
  {
   "cell_type": "code",
   "execution_count": null,
   "metadata": {},
   "outputs": [
    {
     "name": "stdout",
     "output_type": "stream",
     "text": [
      "(276, 21)\n",
      "(180, 21)\n"
     ]
    }
   ],
   "source": [
    "df_pca = df.drop(['breed_info', 'health', 'grooming', 'excercise', 'training', 'nutrition'], axis =1) # drop columns with text\n",
    "\n",
    "print(df_pca.shape)\n",
    "df_pca.dropna(inplace = True)\n",
    "print(df_pca.shape)"
   ]
  },
  {
   "cell_type": "code",
   "execution_count": null,
   "metadata": {},
   "outputs": [],
   "source": [
    "from sklearn.preprocessing import StandardScaler\n",
    "from sklearn.decomposition import PCA\n",
    "import matplotlib.pyplot as plt"
   ]
  },
  {
   "cell_type": "code",
   "execution_count": null,
   "metadata": {},
   "outputs": [],
   "source": [
    "scaler = StandardScaler()\n",
    "scaled_data = scaler.fit_transform(df_pca.drop(['dog','coat_c'], axis = 1))"
   ]
  },
  {
   "cell_type": "code",
   "execution_count": null,
   "metadata": {},
   "outputs": [
    {
     "data": {
      "text/plain": [
       "KMeans(init='random', n_clusters=3, random_state=42)"
      ]
     },
     "execution_count": 61,
     "metadata": {},
     "output_type": "execute_result"
    }
   ],
   "source": [
    "from sklearn.cluster import KMeans\n",
    "kmeans = KMeans(\n",
    "    init=\"random\",\n",
    "     n_clusters=3,\n",
    "    n_init=10,\n",
    "    max_iter=300,\n",
    "    random_state=42 )\n",
    "kmeans.fit(scaled_data)"
   ]
  },
  {
   "cell_type": "code",
   "execution_count": null,
   "metadata": {},
   "outputs": [
    {
     "name": "stdout",
     "output_type": "stream",
     "text": [
      "[0.2132907  0.15888459]\n"
     ]
    },
    {
     "data": {
      "text/plain": [
       "<matplotlib.collections.PathCollection at 0x7fe98a61edc0>"
      ]
     },
     "execution_count": 62,
     "metadata": {},
     "output_type": "execute_result"
    },
    {
     "data": {
      "image/png": "[encoded data removed]",
      "text/plain": [
       "<Figure size 432x288 with 1 Axes>"
      ]
     },
     "metadata": {
      "needs_background": "light"
     },
     "output_type": "display_data"
    }
   ],
   "source": [
    "pca = PCA(n_components=2)\n",
    "components = pca.fit_transform(scaled_data)\n",
    "print(pca.explained_variance_ratio_)\n",
    "plt.scatter(components[:,0],components[:,1], c= kmeans.labels_)"
   ]
  },
  {
   "cell_type": "code",
   "execution_count": null,
   "metadata": {},
   "outputs": [
    {
     "data": {
      "application/vnd.plotly.v1+json": {
       "config": {
        "plotlyServerURL": "https://plot.ly"
       },
       "data": [
        {
         "hovertemplate": "<b>%{hovertext}</b><br><br>x=%{x}<br>y=%{y}<br>color=%{marker.color}<extra></extra>",
         "hovertext": [
          "Affenpinscher",
          "Afghan-Hound",
          "Airedale-Terrier",
          "Akita",
          "Alaskan-Malamute",
          "American-English-Coonhound",
          "American-Eskimo-Dog",
          "American-Foxhound",
          "American-Hairless-Terrier",
          "American-Staffordshire-Terrier",
          "American-Water-Spaniel",
          "Anatolian-Shepherd-Dog",
          "Australian-Cattle-Dog",
          "Australian-Shepherd",
          "Australian-Terrier",
          "Basenji",
          "Basset-Hound",
          "Bearded-Collie",
          "Beauceron",
          "Bedlington-Terrier",
          "Belgian-Malinois",
          "Belgian-Sheepdog",
          "Belgian-Tervuren",
          "Bergamasco-Sheepdog",
          "Berger-Picard",
          "Bernese-Mountain-Dog",
          "Bichon-Frise",
          "Black-and-Tan-Coonhound",
          "Black-Russian-Terrier",
          "Bloodhound",
          "Bluetick-Coonhound",
          "Boerboel",
          "Border-Collie",
          "Border-Terrier",
          "Borzoi",
          "Boston-Terrier",
          "Bouvier-des-Flandres",
          "Boxer",
          "Boykin-Spaniel",
          "Briard",
          "Brittany",
          "Brussels-Griffon",
          "Bull-Terrier",
          "Bulldog",
          "Bullmastiff",
          "Cairn-Terrier",
          "Canaan-Dog",
          "Cardigan-Welsh-Corgi",
          "Cavalier-King-Charles-Spaniel",
          "Cesky-Terrier",
          "Chesapeake-Bay-Retriever",
          "Chihuahua",
          "Chinese-Crested",
          "Chinese-Shar-Pei",
          "Chinook",
          "Chow-Chow",
          "cirneco-delletna",
          "Clumber-Spaniel",
          "Cocker-Spaniel",
          "Collie",
          "Coton-de-Tulear",
          "Curly-Coated-Retriever",
          "Dachshund",
          "Dalmatian",
          "Dandie-Dinmont-Terrier",
          "Doberman-Pinscher",
          "Dogue-de-Bordeaux",
          "English-Cocker-Spaniel",
          "English-Setter",
          "English-Springer-Spaniel",
          "English-Toy-Spaniel",
          "Entlebucher-Mountain-Dog",
          "Field-Spaniel",
          "Finnish-Lapphund",
          "Finnish-Spitz",
          "Flat-Coated-Retriever",
          "French-Bulldog",
          "German-Pinscher",
          "German-Shepherd-Dog",
          "German-Shorthaired-Pointer",
          "German-Wirehaired-Pointer",
          "Giant-Schnauzer",
          "Glen-of-Imaal-Terrier",
          "Golden-Retriever",
          "Gordon-Setter",
          "Grand-Basset-Griffon-Vendeen",
          "Great-Dane",
          "Great-Pyrenees",
          "Greater-Swiss-Mountain-Dog",
          "Greyhound",
          "Harrier",
          "Havanese",
          "Ibizan-Hound",
          "Icelandic-Sheepdog",
          "Irish-Red-and-White-Setter",
          "Irish-Setter",
          "Irish-Terrier",
          "Irish-Water-Spaniel",
          "Irish-Wolfhound",
          "Italian-Greyhound",
          "Japanese-Chin",
          "Keeshond",
          "Komondor",
          "Kuvasz",
          "Labrador-Retriever",
          "Lagotto-Romagnolo",
          "Lakeland-Terrier",
          "Leonberger",
          "Lhasa-Apso",
          "Maltese",
          "Manchester-Terrier-(Standard)",
          "Manchester-Terrier-(Toy)",
          "Mastiff",
          "Miniature-American-Shepherd",
          "Miniature-Bull-Terrier",
          "Miniature-Pinscher",
          "Miniature-Schnauzer",
          "Neapolitan-Mastiff",
          "Newfoundland",
          "Norfolk-Terrier",
          "Norwegian-Buhund",
          "Norwegian-Elkhound",
          "Norwegian-Lundehund",
          "Nova-Scotia-Duck-Tolling-Retriever",
          "Old-English-Sheepdog",
          "Otterhound",
          "Papillon",
          "Parson-Russell-Terrier",
          "Pekingese",
          "Pembroke-Welsh-Corgi",
          "Petit-Basset-Griffon-Vendeen",
          "Pharaoh-Hound",
          "Pointer",
          "Polish-Lowland-Sheepdog",
          "Pomeranian",
          "Poodle-(Miniature)",
          "Poodle-(Standard)",
          "Poodle-(Toy)",
          "Portuguese-Podengo-Pequeno",
          "Portuguese-Water-Dog",
          "Pug",
          "Puli",
          "Pumi",
          "Pyrenean-Shepherd",
          "Rat-Terrier",
          "Redbone-Coonhound",
          "Rhodesian-Ridgeback",
          "Rottweiler",
          "Russell-Terrier",
          "Saint-Bernard",
          "Saluki",
          "Samoyed",
          "Schipperke",
          "Scottish-Deerhound",
          "Scottish-Terrier",
          "Sealyham-Terrier",
          "Shetland-Sheepdog",
          "Shiba-Inu",
          "Shih-Tzu",
          "Siberian-Husky",
          "Silky-Terrier",
          "Skye-Terrier",
          "Sloughi",
          "Smooth-Fox-Terrier",
          "Soft-Coated-Wheaten-Terrier",
          "Spanish-Water-Dog",
          "Staffordshire-Bull-Terrier",
          "Standard-Schnauzer",
          "Sussex-Spaniel",
          "Swedish-Vallhund",
          "Tibetan-Mastiff",
          "Tibetan-Spaniel",
          "Tibetan-Terrier",
          "Treeing-Walker-Coonhound",
          "Vizsla",
          "Weimaraner",
          "Welsh-Springer-Spaniel",
          "Welsh-Terrier",
          "West-Highland-White-Terrier",
          "Whippet"
         ],
         "legendgroup": "",
         "marker": {
          "color": [
           2,
           2,
           0,
           0,
           0,
           0,
           2,
           0,
           2,
           0,
           2,
           0,
           0,
           1,
           2,
           0,
           0,
           2,
           0,
           2,
           0,
           0,
           0,
           0,
           0,
           1,
           2,
           0,
           0,
           0,
           0,
           0,
           1,
           2,
           0,
           1,
           0,
           0,
           2,
           0,
           1,
           2,
           0,
           0,
           0,
           2,
           0,
           2,
           2,
           2,
           0,
           2,
           2,
           0,
           2,
           0,
           2,
           0,
           2,
           2,
           2,
           0,
           2,
           1,
           2,
           1,
           0,
           2,
           1,
           1,
           2,
           0,
           2,
           2,
           2,
           1,
           1,
           1,
           1,
           1,
           1,
           1,
           2,
           1,
           0,
           1,
           0,
           0,
           0,
           0,
           1,
           2,
           1,
           1,
           1,
           1,
           2,
           2,
           0,
           2,
           2,
           1,
           0,
           0,
           1,
           2,
           2,
           0,
           2,
           2,
           2,
           2,
           0,
           1,
           2,
           1,
           1,
           0,
           0,
           1,
           2,
           1,
           2,
           1,
           2,
           0,
           1,
           1,
           2,
           1,
           2,
           0,
           1,
           2,
           2,
           1,
           1,
           1,
           2,
           1,
           1,
           2,
           1,
           1,
           1,
           0,
           0,
           0,
           1,
           0,
           0,
           1,
           2,
           0,
           2,
           2,
           1,
           2,
           2,
           1,
           2,
           2,
           0,
           2,
           2,
           2,
           1,
           1,
           2,
           1,
           0,
           2,
           2,
           1,
           1,
           1,
           2,
           1,
           1,
           1
          ],
          "coloraxis": "coloraxis",
          "symbol": "circle"
         },
         "mode": "markers",
         "name": "",
         "orientation": "v",
         "showlegend": false,
         "type": "scatter",
         "x": [
          -0.11568473716384371,
          1.6660037122878988,
          2.1771473070111833,
          3.7386240576777485,
          1.909542364325484,
          2.0897962819439395,
          -1.7719385849148312,
          1.5429449486935276,
          -1.2337778669952502,
          1.4378188101458809,
          1.194085043154761,
          5.266182588948761,
          1.5452821211663486,
          -0.5106351385332786,
          -0.5672132348102022,
          1.8777587333973937,
          1.543450555606165,
          -1.4154735243593373,
          3.1462208432319407,
          1.1531187903865197,
          1.400839286230292,
          1.5871802404198292,
          1.5509623113262443,
          2.9046794218746737,
          2.1769428290992896,
          0.3777856949446016,
          -3.564122991678268,
          1.5989764895444876,
          2.5113472852417327,
          2.840329211642284,
          1.8774492392089868,
          3.552635885379142,
          -3.0043494903487558,
          -0.9741209388460234,
          2.869094923013861,
          -1.6138782866208037,
          2.485230980808584,
          0.7916573517637843,
          -0.6455759118535728,
          2.7347372154786638,
          -0.3731349383134627,
          -1.1959318710929234,
          1.0522391749149356,
          1.355832450150834,
          3.840119989269285,
          0.054669808123834644,
          1.9860595681768194,
          -1.141580638129774,
          -0.7854211235911069,
          -0.28272036409736057,
          0.928530000748998,
          -0.37252756484931215,
          -0.6865159778597922,
          2.3565606357240236,
          0.30523928295681657,
          3.458210510971938,
          0.4441171568573295,
          2.137625274830745,
          -1.1273165298869692,
          -0.2546990723907186,
          -2.90578427527601,
          0.727961068622041,
          -1.5761317484831667,
          0.10516680562038272,
          0.35935055001873417,
          0.05273202764492308,
          3.382396649040061,
          -1.3363622785459772,
          -0.01741274390085862,
          -0.857895384919457,
          -0.7113662468892532,
          0.8707191105258326,
          -0.3759684712099496,
          -0.05454611612850373,
          -0.8829948775036526,
          -2.2903486314569284,
          -1.5803458588222197,
          -0.0031655353766266246,
          -0.5876896567684947,
          -1.1357137837881226,
          -1.079717313091302,
          -0.2348915051464841,
          0.7912398918612371,
          -1.275262892953075,
          0.919595512267265,
          -1.3928651994079129,
          3.019702511238201,
          3.144508533128948,
          1.2093939889467382,
          1.868997348031017,
          -1.2276189615415678,
          -4.216689528349564,
          -0.32496792320232293,
          -1.0129816217950585,
          -1.5986838546844002,
          -2.1267826397693916,
          0.4063691710210543,
          -0.21907396290771364,
          3.997063575365346,
          -1.467219362528728,
          0.11303419909379321,
          -3.393735301094565,
          2.3550421283733454,
          2.2007269866936205,
          -2.389868570404312,
          -1.5229792226068837,
          -0.3328014180110973,
          1.2486424002795184,
          -0.7552755133428695,
          -0.7763102182555458,
          -1.1347439136314141,
          -1.38368010116324,
          4.32858980668482,
          -2.2676828923282595,
          -0.3861814877640418,
          -1.5324165365847702,
          -2.5077133409199797,
          6.366754256609358,
          2.3939402537458467,
          -2.0283548665678692,
          0.14587508108769368,
          -0.41582070812676,
          1.789373857632853,
          -1.7183026051555026,
          0.05673195943070312,
          1.5168204114591164,
          -4.465437985133952,
          -1.548144673633575,
          -0.3867716290524751,
          -1.1940028172391033,
          -1.8740494191947967,
          0.8002895717629258,
          -0.6441008199552949,
          -0.9211100513010019,
          -0.914945822780063,
          -4.332074467900344,
          -3.448204662354926,
          -4.514739124156472,
          -1.5326984950438896,
          -3.177139838397676,
          -2.520121503687628,
          -0.5807665990258284,
          -1.1036355345113762,
          -2.2276561345573365,
          -3.153300569757508,
          0.48149907072076,
          3.0035517220450756,
          1.8827904393606434,
          -2.79826425016482,
          3.919301118799485,
          0.8168079718878444,
          -2.49165159626491,
          -0.29471628607724776,
          3.0411668393363467,
          -0.3412895080521724,
          -0.565678513027432,
          -3.1913425153880883,
          1.0451664661911584,
          -2.435382046182692,
          -2.9410762999884352,
          -1.5016771669190265,
          0.642346449860599,
          2.6699718081698927,
          -0.9931258865471588,
          0.15786025165247122,
          -0.6227033460916549,
          -1.5453692808176989,
          -1.0806208319054909,
          0.03120863265845138,
          -0.8033294796811248,
          3.9688908198000767,
          -0.9370432328255296,
          -0.41126455955928254,
          -0.9274233993846381,
          -2.6109846175579556,
          -0.7598235346705107,
          0.0265266019674739,
          -2.125674672751361,
          -2.616122090002721,
          -0.1167051070325728
         ],
         "xaxis": "x",
         "y": [
          -2.713098918272189,
          -3.6773279869470072,
          -2.248026902942383,
          -0.7882572664179057,
          -0.3723389244433116,
          -1.6011956292801002,
          -1.1182869359485939,
          -0.9504598447025131,
          -1.3621472497170288,
          -1.323156299148811,
          -2.7286271055640077,
          -1.5490303723760679,
          -0.42894965352675724,
          0.9081878790685245,
          -1.9453229305448991,
          -2.075072079889787,
          -0.8395048576275937,
          -0.8265826353153022,
          -0.38997301347960456,
          -3.292718353722765,
          -0.23704549909404773,
          -0.5261062020688416,
          -0.4402732711477035,
          -2.429334703822508,
          -0.7093272272849482,
          3.452778335458965,
          -1.5349792244899159,
          0.6008264886798518,
          0.5467888135780907,
          1.0266017092524542,
          -0.5159933939059862,
          2.036557415724509,
          1.5275481383878282,
          -1.1465349751732583,
          -0.7796820176733407,
          0.36964469785928655,
          -0.3208028150810076,
          1.6990928425354532,
          -0.6085879162988359,
          -2.137399770627879,
          0.21035482507347275,
          -1.9757311622198472,
          -0.44590359325970297,
          0.545420194415652,
          2.3581255106708556,
          -2.725881476949414,
          -1.67222935098589,
          -0.9093700270067636,
          -0.7880164000020512,
          -2.3985798465027943,
          0.9161455521701347,
          -3.000753433394967,
          -2.806113709746469,
          0.17051941947906216,
          -0.7790442077922942,
          -0.5874698848047403,
          -1.83768091835547,
          0.45812153908706993,
          -0.15942519673219147,
          0.02881658663983983,
          -1.6168050245489745,
          0.6138111645730071,
          -1.0333410474041567,
          1.550754473346943,
          -2.9107879321030827,
          3.648215037060766,
          3.5080145367441085,
          0.18211212698800777,
          1.4049957104126938,
          1.512470058939895,
          -0.6759112467252913,
          0.584813770178169,
          0.1281864613538286,
          -0.48906146082371177,
          -0.4463416561083743,
          3.3746463245159717,
          2.123230282145146,
          0.20657628250109236,
          4.14000431793184,
          3.2359098861521893,
          0.7815734940988727,
          1.2987826090643715,
          -2.011081861722714,
          3.2607541846707577,
          1.7602882273723424,
          -0.18743785746191421,
          3.692688719233245,
          0.6559979501511194,
          3.052850830900544,
          -0.6311663638074956,
          0.7840367341683293,
          -0.6570817885941228,
          0.48443945202237654,
          0.7505950185544903,
          1.1909828544054784,
          2.1852722440208736,
          -1.2355073775059167,
          -0.023677414453435762,
          1.4756933304140654,
          -0.5959476151357203,
          -1.5165329568256252,
          1.7250650099165734,
          -1.200772358807051,
          0.8433056482751473,
          4.064937122594982,
          -0.7074420163759496,
          -1.6425573853126694,
          3.451153387711203,
          -2.4825202467171965,
          -3.0398190246956798,
          -1.5009256068974797,
          -1.7519145459819503,
          3.7640425740773646,
          1.7750161031583542,
          -0.6721645632505484,
          -0.1270937365261382,
          0.4504378656925726,
          1.391228602335922,
          3.4891068146664006,
          -0.5087040872378923,
          -1.2582718848526075,
          0.5309162881936448,
          -2.9109791105787894,
          1.7262909805854856,
          1.3009480970639364,
          0.11750784822602772,
          0.9053154700346133,
          -0.6061197156824012,
          -1.9115834066124153,
          0.7241188880308563,
          -1.0788664105363157,
          -0.387902413746315,
          1.2718446048511816,
          -0.7975406373703514,
          -2.7584937875314623,
          0.0033892097090203756,
          0.7878700713929173,
          -0.17782106936806943,
          -0.6463394746406769,
          2.2771613455842163,
          0.9556465070840031,
          -1.126818876857331,
          0.0968490009827955,
          0.01763360121212278,
          0.9972749276205213,
          0.5852263473450239,
          3.6037555862486332,
          3.511568576827265,
          0.5577992925327621,
          3.395785729623864,
          -0.7565783122236783,
          0.9120363606569013,
          -1.1194916987600854,
          0.14223262841420725,
          -1.1407512460040388,
          -1.4012483459980052,
          0.8676311626734541,
          -1.568423187729585,
          -1.6990504901917756,
          1.6105597739555826,
          -2.142317793449647,
          -2.799117860396739,
          -1.5362038240859988,
          -1.9380702603870978,
          -1.4366343644671171,
          -0.7453351191006042,
          1.5970131033248711,
          0.580310013801601,
          -1.0176295267942361,
          0.35891760916901705,
          0.4033569047490331,
          -0.903945273208143,
          -1.3418386329987437,
          2.648605614685776,
          3.1961117775224297,
          3.370828518606651,
          0.2647082142882467,
          -0.01888492268270931,
          -0.19610200877717165,
          0.0725648009159378
         ],
         "yaxis": "y"
        }
       ],
       "layout": {
        "coloraxis": {
         "colorbar": {
          "title": {
           "text": "color"
          }
         },
         "colorscale": [
          [
           0,
           "#0d0887"
          ],
          [
           0.1111111111111111,
           "#46039f"
          ],
          [
           0.2222222222222222,
           "#7201a8"
          ],
          [
           0.3333333333333333,
           "#9c179e"
          ],
          [
           0.4444444444444444,
           "#bd3786"
          ],
          [
           0.5555555555555556,
           "#d8576b"
          ],
          [
           0.6666666666666666,
           "#ed7953"
          ],
          [
           0.7777777777777778,
           "#fb9f3a"
          ],
          [
           0.8888888888888888,
           "#fdca26"
          ],
          [
           1,
           "#f0f921"
          ]
         ]
        },
        "legend": {
         "tracegroupgap": 0
        },
        "margin": {
         "t": 60
        },
        "template": {
         "data": {
          "bar": [
           {
            "error_x": {
             "color": "#2a3f5f"
            },
            "error_y": {
             "color": "#2a3f5f"
            },
            "marker": {
             "line": {
              "color": "#E5ECF6",
              "width": 0.5
             },
             "pattern": {
              "fillmode": "overlay",
              "size": 10,
              "solidity": 0.2
             }
            },
            "type": "bar"
           }
          ],
          "barpolar": [
           {
            "marker": {
             "line": {
              "color": "#E5ECF6",
              "width": 0.5
             },
             "pattern": {
              "fillmode": "overlay",
              "size": 10,
              "solidity": 0.2
             }
            },
            "type": "barpolar"
           }
          ],
          "carpet": [
           {
            "aaxis": {
             "endlinecolor": "#2a3f5f",
             "gridcolor": "white",
             "linecolor": "white",
             "minorgridcolor": "white",
             "startlinecolor": "#2a3f5f"
            },
            "baxis": {
             "endlinecolor": "#2a3f5f",
             "gridcolor": "white",
             "linecolor": "white",
             "minorgridcolor": "white",
             "startlinecolor": "#2a3f5f"
            },
            "type": "carpet"
           }
          ],
          "choropleth": [
           {
            "colorbar": {
             "outlinewidth": 0,
             "ticks": ""
            },
            "type": "choropleth"
           }
          ],
          "contour": [
           {
            "colorbar": {
             "outlinewidth": 0,
             "ticks": ""
            },
            "colorscale": [
             [
              0,
              "#0d0887"
             ],
             [
              0.1111111111111111,
              "#46039f"
             ],
             [
              0.2222222222222222,
              "#7201a8"
             ],
             [
              0.3333333333333333,
              "#9c179e"
             ],
             [
              0.4444444444444444,
              "#bd3786"
             ],
             [
              0.5555555555555556,
              "#d8576b"
             ],
             [
              0.6666666666666666,
              "#ed7953"
             ],
             [
              0.7777777777777778,
              "#fb9f3a"
             ],
             [
              0.8888888888888888,
              "#fdca26"
             ],
             [
              1,
              "#f0f921"
             ]
            ],
            "type": "contour"
           }
          ],
          "contourcarpet": [
           {
            "colorbar": {
             "outlinewidth": 0,
             "ticks": ""
            },
            "type": "contourcarpet"
           }
          ],
          "heatmap": [
           {
            "colorbar": {
             "outlinewidth": 0,
             "ticks": ""
            },
            "colorscale": [
             [
              0,
              "#0d0887"
             ],
             [
              0.1111111111111111,
              "#46039f"
             ],
             [
              0.2222222222222222,
              "#7201a8"
             ],
             [
              0.3333333333333333,
              "#9c179e"
             ],
             [
              0.4444444444444444,
              "#bd3786"
             ],
             [
              0.5555555555555556,
              "#d8576b"
             ],
             [
              0.6666666666666666,
              "#ed7953"
             ],
             [
              0.7777777777777778,
              "#fb9f3a"
             ],
             [
              0.8888888888888888,
              "#fdca26"
             ],
             [
              1,
              "#f0f921"
             ]
            ],
            "type": "heatmap"
           }
          ],
          "heatmapgl": [
           {
            "colorbar": {
             "outlinewidth": 0,
             "ticks": ""
            },
            "colorscale": [
             [
              0,
              "#0d0887"
             ],
             [
              0.1111111111111111,
              "#46039f"
             ],
             [
              0.2222222222222222,
              "#7201a8"
             ],
             [
              0.3333333333333333,
              "#9c179e"
             ],
             [
              0.4444444444444444,
              "#bd3786"
             ],
             [
              0.5555555555555556,
              "#d8576b"
             ],
             [
              0.6666666666666666,
              "#ed7953"
             ],
             [
              0.7777777777777778,
              "#fb9f3a"
             ],
             [
              0.8888888888888888,
              "#fdca26"
             ],
             [
              1,
              "#f0f921"
             ]
            ],
            "type": "heatmapgl"
           }
          ],
          "histogram": [
           {
            "marker": {
             "pattern": {
              "fillmode": "overlay",
              "size": 10,
              "solidity": 0.2
             }
            },
            "type": "histogram"
           }
          ],
          "histogram2d": [
           {
            "colorbar": {
             "outlinewidth": 0,
             "ticks": ""
            },
            "colorscale": [
             [
              0,
              "#0d0887"
             ],
             [
              0.1111111111111111,
              "#46039f"
             ],
             [
              0.2222222222222222,
              "#7201a8"
             ],
             [
              0.3333333333333333,
              "#9c179e"
             ],
             [
              0.4444444444444444,
              "#bd3786"
             ],
             [
              0.5555555555555556,
              "#d8576b"
             ],
             [
              0.6666666666666666,
              "#ed7953"
             ],
             [
              0.7777777777777778,
              "#fb9f3a"
             ],
             [
              0.8888888888888888,
              "#fdca26"
             ],
             [
              1,
              "#f0f921"
             ]
            ],
            "type": "histogram2d"
           }
          ],
          "histogram2dcontour": [
           {
            "colorbar": {
             "outlinewidth": 0,
             "ticks": ""
            },
            "colorscale": [
             [
              0,
              "#0d0887"
             ],
             [
              0.1111111111111111,
              "#46039f"
             ],
             [
              0.2222222222222222,
              "#7201a8"
             ],
             [
              0.3333333333333333,
              "#9c179e"
             ],
             [
              0.4444444444444444,
              "#bd3786"
             ],
             [
              0.5555555555555556,
              "#d8576b"
             ],
             [
              0.6666666666666666,
              "#ed7953"
             ],
             [
              0.7777777777777778,
              "#fb9f3a"
             ],
             [
              0.8888888888888888,
              "#fdca26"
             ],
             [
              1,
              "#f0f921"
             ]
            ],
            "type": "histogram2dcontour"
           }
          ],
          "mesh3d": [
           {
            "colorbar": {
             "outlinewidth": 0,
             "ticks": ""
            },
            "type": "mesh3d"
           }
          ],
          "parcoords": [
           {
            "line": {
             "colorbar": {
              "outlinewidth": 0,
              "ticks": ""
             }
            },
            "type": "parcoords"
           }
          ],
          "pie": [
           {
            "automargin": true,
            "type": "pie"
           }
          ],
          "scatter": [
           {
            "marker": {
             "colorbar": {
              "outlinewidth": 0,
              "ticks": ""
             }
            },
            "type": "scatter"
           }
          ],
          "scatter3d": [
           {
            "line": {
             "colorbar": {
              "outlinewidth": 0,
              "ticks": ""
             }
            },
            "marker": {
             "colorbar": {
              "outlinewidth": 0,
              "ticks": ""
             }
            },
            "type": "scatter3d"
           }
          ],
          "scattercarpet": [
           {
            "marker": {
             "colorbar": {
              "outlinewidth": 0,
              "ticks": ""
             }
            },
            "type": "scattercarpet"
           }
          ],
          "scattergeo": [
           {
            "marker": {
             "colorbar": {
              "outlinewidth": 0,
              "ticks": ""
             }
            },
            "type": "scattergeo"
           }
          ],
          "scattergl": [
           {
            "marker": {
             "colorbar": {
              "outlinewidth": 0,
              "ticks": ""
             }
            },
            "type": "scattergl"
           }
          ],
          "scattermapbox": [
           {
            "marker": {
             "colorbar": {
              "outlinewidth": 0,
              "ticks": ""
             }
            },
            "type": "scattermapbox"
           }
          ],
          "scatterpolar": [
           {
            "marker": {
             "colorbar": {
              "outlinewidth": 0,
              "ticks": ""
             }
            },
            "type": "scatterpolar"
           }
          ],
          "scatterpolargl": [
           {
            "marker": {
             "colorbar": {
              "outlinewidth": 0,
              "ticks": ""
             }
            },
            "type": "scatterpolargl"
           }
          ],
          "scatterternary": [
           {
            "marker": {
             "colorbar": {
              "outlinewidth": 0,
              "ticks": ""
             }
            },
            "type": "scatterternary"
           }
          ],
          "surface": [
           {
            "colorbar": {
             "outlinewidth": 0,
             "ticks": ""
            },
            "colorscale": [
             [
              0,
              "#0d0887"
             ],
             [
              0.1111111111111111,
              "#46039f"
             ],
             [
              0.2222222222222222,
              "#7201a8"
             ],
             [
              0.3333333333333333,
              "#9c179e"
             ],
             [
              0.4444444444444444,
              "#bd3786"
             ],
             [
              0.5555555555555556,
              "#d8576b"
             ],
             [
              0.6666666666666666,
              "#ed7953"
             ],
             [
              0.7777777777777778,
              "#fb9f3a"
             ],
             [
              0.8888888888888888,
              "#fdca26"
             ],
             [
              1,
              "#f0f921"
             ]
            ],
            "type": "surface"
           }
          ],
          "table": [
           {
            "cells": {
             "fill": {
              "color": "#EBF0F8"
             },
             "line": {
              "color": "white"
             }
            },
            "header": {
             "fill": {
              "color": "#C8D4E3"
             },
             "line": {
              "color": "white"
             }
            },
            "type": "table"
           }
          ]
         },
         "layout": {
          "annotationdefaults": {
           "arrowcolor": "#2a3f5f",
           "arrowhead": 0,
           "arrowwidth": 1
          },
          "autotypenumbers": "strict",
          "coloraxis": {
           "colorbar": {
            "outlinewidth": 0,
            "ticks": ""
           }
          },
          "colorscale": {
           "diverging": [
            [
             0,
             "#8e0152"
            ],
            [
             0.1,
             "#c51b7d"
            ],
            [
             0.2,
             "#de77ae"
            ],
            [
             0.3,
             "#f1b6da"
            ],
            [
             0.4,
             "#fde0ef"
            ],
            [
             0.5,
             "#f7f7f7"
            ],
            [
             0.6,
             "#e6f5d0"
            ],
            [
             0.7,
             "#b8e186"
            ],
            [
             0.8,
             "#7fbc41"
            ],
            [
             0.9,
             "#4d9221"
            ],
            [
             1,
             "#276419"
            ]
           ],
           "sequential": [
            [
             0,
             "#0d0887"
            ],
            [
             0.1111111111111111,
             "#46039f"
            ],
            [
             0.2222222222222222,
             "#7201a8"
            ],
            [
             0.3333333333333333,
             "#9c179e"
            ],
            [
             0.4444444444444444,
             "#bd3786"
            ],
            [
             0.5555555555555556,
             "#d8576b"
            ],
            [
             0.6666666666666666,
             "#ed7953"
            ],
            [
             0.7777777777777778,
             "#fb9f3a"
            ],
            [
             0.8888888888888888,
             "#fdca26"
            ],
            [
             1,
             "#f0f921"
            ]
           ],
           "sequentialminus": [
            [
             0,
             "#0d0887"
            ],
            [
             0.1111111111111111,
             "#46039f"
            ],
            [
             0.2222222222222222,
             "#7201a8"
            ],
            [
             0.3333333333333333,
             "#9c179e"
            ],
            [
             0.4444444444444444,
             "#bd3786"
            ],
            [
             0.5555555555555556,
             "#d8576b"
            ],
            [
             0.6666666666666666,
             "#ed7953"
            ],
            [
             0.7777777777777778,
             "#fb9f3a"
            ],
            [
             0.8888888888888888,
             "#fdca26"
            ],
            [
             1,
             "#f0f921"
            ]
           ]
          },
          "colorway": [
           "#636efa",
           "#EF553B",
           "#00cc96",
           "#ab63fa",
           "#FFA15A",
           "#19d3f3",
           "#FF6692",
           "#B6E880",
           "#FF97FF",
           "#FECB52"
          ],
          "font": {
           "color": "#2a3f5f"
          },
          "geo": {
           "bgcolor": "white",
           "lakecolor": "white",
           "landcolor": "#E5ECF6",
           "showlakes": true,
           "showland": true,
           "subunitcolor": "white"
          },
          "hoverlabel": {
           "align": "left"
          },
          "hovermode": "closest",
          "mapbox": {
           "style": "light"
          },
          "paper_bgcolor": "white",
          "plot_bgcolor": "#E5ECF6",
          "polar": {
           "angularaxis": {
            "gridcolor": "white",
            "linecolor": "white",
            "ticks": ""
           },
           "bgcolor": "#E5ECF6",
           "radialaxis": {
            "gridcolor": "white",
            "linecolor": "white",
            "ticks": ""
           }
          },
          "scene": {
           "xaxis": {
            "backgroundcolor": "#E5ECF6",
            "gridcolor": "white",
            "gridwidth": 2,
            "linecolor": "white",
            "showbackground": true,
            "ticks": "",
            "zerolinecolor": "white"
           },
           "yaxis": {
            "backgroundcolor": "#E5ECF6",
            "gridcolor": "white",
            "gridwidth": 2,
            "linecolor": "white",
            "showbackground": true,
            "ticks": "",
            "zerolinecolor": "white"
           },
           "zaxis": {
            "backgroundcolor": "#E5ECF6",
            "gridcolor": "white",
            "gridwidth": 2,
            "linecolor": "white",
            "showbackground": true,
            "ticks": "",
            "zerolinecolor": "white"
           }
          },
          "shapedefaults": {
           "line": {
            "color": "#2a3f5f"
           }
          },
          "ternary": {
           "aaxis": {
            "gridcolor": "white",
            "linecolor": "white",
            "ticks": ""
           },
           "baxis": {
            "gridcolor": "white",
            "linecolor": "white",
            "ticks": ""
           },
           "bgcolor": "#E5ECF6",
           "caxis": {
            "gridcolor": "white",
            "linecolor": "white",
            "ticks": ""
           }
          },
          "title": {
           "x": 0.05
          },
          "xaxis": {
           "automargin": true,
           "gridcolor": "white",
           "linecolor": "white",
           "ticks": "",
           "title": {
            "standoff": 15
           },
           "zerolinecolor": "white",
           "zerolinewidth": 2
          },
          "yaxis": {
           "automargin": true,
           "gridcolor": "white",
           "linecolor": "white",
           "ticks": "",
           "title": {
            "standoff": 15
           },
           "zerolinecolor": "white",
           "zerolinewidth": 2
          }
         }
        },
        "xaxis": {
         "anchor": "y",
         "domain": [
          0,
          1
         ],
         "title": {
          "text": "x"
         }
        },
        "yaxis": {
         "anchor": "x",
         "domain": [
          0,
          1
         ],
         "title": {
          "text": "y"
         }
        }
       }
      }
     },
     "metadata": {},
     "output_type": "display_data"
    }
   ],
   "source": [
    "import plotly.express as px\n",
    "df1 = components\n",
    "fig = px.scatter(df1, x=df1[:,0], y=df1[:,1], color = kmeans.labels_, hover_name = df_pca.dog)\n",
    "fig.show()"
   ]
  },
  {
   "cell_type": "code",
   "execution_count": null,
   "metadata": {},
   "outputs": [],
   "source": []
  }
 ],
 "metadata": {
  "interpreter": {
   "hash": "949777d72b0d2535278d3dc13498b2535136f6dfe0678499012e853ee9abcab1"
  },
  "kernelspec": {
   "display_name": "Python 3.9.7 64-bit",
   "language": "python",
   "name": "python3"
  },
  "language_info": {
   "codemirror_mode": {
    "name": "ipython",
    "version": 3
   },
   "file_extension": ".py",
   "mimetype": "text/x-python",
   "name": "python",
   "nbconvert_exporter": "python",
   "pygments_lexer": "ipython3",
   "version": "3.9.7"
  },
  "orig_nbformat": 4
 },
 "nbformat": 4,
 "nbformat_minor": 2
}
