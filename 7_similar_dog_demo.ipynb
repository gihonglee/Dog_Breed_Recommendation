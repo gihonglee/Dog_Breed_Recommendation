{
 "cells": [
  {
   "cell_type": "code",
   "execution_count": null,
   "metadata": {},
   "outputs": [],
   "source": [
    "# Data Manipulation\n",
    "import numpy as np\n",
    "import pandas as pd\n",
    "\n",
    "# Visualization\n",
    "import matplotlib.pyplot as plt\n",
    "from matplotlib.pyplot import figure\n",
    "import seaborn as sns\n",
    "import matplotlib.dates as mdates\n",
    "from sklearn.preprocessing import StandardScaler\n",
    "\n",
    "# Machine Learning / Time Series\n",
    "from scipy import stats\n",
    "import statsmodels.api as sm\n",
    "from factor_analyzer import FactorAnalyzer\n",
    "from IPython.display import Image, display\n",
    "\n",
    "# Snowflake & ETC\n",
    "import datetime\n",
    "import copy"
   ]
  },
  {
   "cell_type": "code",
   "execution_count": null,
   "metadata": {},
   "outputs": [],
   "source": [
    "def add_dist_col(df,dog_name):\n",
    "\n",
    "    # this function will return 5 dogs that are similar with input_dog\n",
    "    # also return the longest distance from the input dog data point\n",
    "    df = copy.deepcopy(df)\n",
    "    dist_list = []\n",
    "    base = df.loc[dog_name].values\n",
    "    \n",
    "    for i in range(df.shape[0]):\n",
    "        dist_list.append(np.linalg.norm(base - df.iloc[i].values))\n",
    "    \n",
    "    df['dist'] = dist_list\n",
    "    df = df.sort_values(by = 'dist')\n",
    "    # similarity rate will range from 0 to 1\n",
    "    df['simliarity_rate'] = 1 - (df['dist'] / df['dist'].values[-1])\n",
    "    \n",
    "    return df.head(5)\n",
    "\n",
    "def euclidean_by_name(df_similiar_dogs):\n",
    "    name_list = list(df_similiar_dogs.index)\n",
    "    similarity_list = list(df_similiar_dogs.simliarity_rate)\n",
    "    for name,s_rate in zip(name_list,similarity_list):\n",
    "        print(format(s_rate,'.2%'), \"simliar to\", name)\n",
    "        display(Image(filename=f'img/{name}.jpg'))"
   ]
  },
  {
   "cell_type": "code",
   "execution_count": null,
   "metadata": {},
   "outputs": [],
   "source": [
    "df = pd.read_csv(\"dog_data_clean.csv\", index_col= [0])\n",
    "df = df.reset_index(drop=True)"
   ]
  },
  {
   "cell_type": "code",
   "execution_count": null,
   "metadata": {},
   "outputs": [],
   "source": [
    "df.columns"
   ]
  },
  {
   "cell_type": "code",
   "execution_count": null,
   "metadata": {},
   "outputs": [],
   "source": [
    "df = df.set_index('dog')"
   ]
  },
  {
   "cell_type": "code",
   "execution_count": null,
   "metadata": {},
   "outputs": [],
   "source": [
    "df = df.drop(['color','health','grooming','excercise','training','nutrition'], axis = 1)"
   ]
  },
  {
   "cell_type": "code",
   "execution_count": null,
   "metadata": {},
   "outputs": [],
   "source": [
    "# Normalize df, so that all the columns will have value from 0 to 1\n",
    "df=(df-df.min())/(df.max()-df.min())"
   ]
  },
  {
   "cell_type": "code",
   "execution_count": null,
   "metadata": {},
   "outputs": [],
   "source": [
    "personality = ['Affectionate With Family',\n",
    "       'Good With Young Children', 'Good With Other Dogs',\n",
    "       'Openness To Strangers', 'Playfulness Level',\n",
    "       'Watchdog/Protective Nature', 'Adaptability Level',\n",
    "       'Trainability Level', 'Energy Level', 'Barking Level',\n",
    "       'Mental Stimulation Needs']\n",
    "\n",
    "apperance = ['height', 'weight', 'bmi', 'life', 'Shedding Level',\n",
    "       'Coat Grooming Frequency',  'Coat Length', 'marking']\n",
    "\n",
    "df_custom = df[apperance + personality]"
   ]
  },
  {
   "cell_type": "code",
   "execution_count": null,
   "metadata": {},
   "outputs": [],
   "source": [
    "df.index"
   ]
  },
  {
   "cell_type": "code",
   "execution_count": null,
   "metadata": {},
   "outputs": [],
   "source": [
    "for i in df.index:\n",
    "    print(\"--------------------------\")\n",
    "    print(i)\n",
    "    df_similiar_dogs= add_dist_col(df_custom,i)\n",
    "    euclidean_by_name(df_similiar_dogs)\n",
    "\n",
    "# custom"
   ]
  },
  {
   "cell_type": "code",
   "execution_count": null,
   "metadata": {},
   "outputs": [],
   "source": [
    "df[df.index == 'australian-stumpy-tail-cattle-dog']"
   ]
  },
  {
   "cell_type": "code",
   "execution_count": null,
   "metadata": {},
   "outputs": [],
   "source": [
    "df[df.index == 'australian-cattle-dog']"
   ]
  }
 ],
 "metadata": {
  "kernelspec": {
   "display_name": "Python 3.9.12 ('base')",
   "language": "python",
   "name": "python3"
  },
  "language_info": {
   "codemirror_mode": {
    "name": "ipython",
    "version": 3
   },
   "file_extension": ".py",
   "mimetype": "text/x-python",
   "name": "python",
   "nbconvert_exporter": "python",
   "pygments_lexer": "ipython3",
   "version": "3.9.12"
  },
  "orig_nbformat": 4,
  "vscode": {
   "interpreter": {
    "hash": "29f9ce33f6c884e3855952bfd7c8e1ec7ab3eef33d7abd85991a8524700c864f"
   }
  }
 },
 "nbformat": 4,
 "nbformat_minor": 2
}
