{
 "cells": [
  {
   "cell_type": "code",
   "execution_count": null,
   "metadata": {},
   "outputs": [],
   "source": [
    "# Data Manipulation\n",
    "import numpy as np\n",
    "import pandas as pd\n",
    "\n",
    "# Visualization\n",
    "import matplotlib.pyplot as plt\n",
    "from matplotlib.pyplot import figure\n",
    "import seaborn as sns\n",
    "import matplotlib.dates as mdates\n",
    "from sklearn.preprocessing import StandardScaler\n",
    "\n",
    "# Machine Learning / Time Series\n",
    "from scipy import stats\n",
    "import statsmodels.api as sm\n",
    "from factor_analyzer import FactorAnalyzer\n",
    "from IPython.display import Image, display\n",
    "\n",
    "# Snowflake & ETC\n",
    "import datetime\n",
    "import copy"
   ]
  },
  {
   "cell_type": "code",
   "execution_count": null,
   "metadata": {},
   "outputs": [],
   "source": [
    "def add_dist_col(df,dog_name):\n",
    "\n",
    "    # this function will return 5 dogs that are similar with input_dog\n",
    "    # also return the longest distance from the input dog data point\n",
    "    df = copy.deepcopy(df)\n",
    "    dist_list = []\n",
    "    base = df.loc[dog_name].values\n",
    "    \n",
    "    for i in range(df.shape[0]):\n",
    "        dist_list.append(np.linalg.norm(base - df.iloc[i].values))\n",
    "    \n",
    "    df['dist'] = dist_list\n",
    "    df = df.sort_values(by = 'dist')\n",
    "    # similarity rate will range from 0 to 1\n",
    "    df['simliarity_rate'] = 1 - (df['dist'] / df['dist'].values[-1])\n",
    "    \n",
    "    return df.head(5)\n",
    "\n",
    "def euclidean_by_name(df_similiar_dogs):\n",
    "    name_list = list(df_similiar_dogs.index)\n",
    "    similarity_list = list(df_similiar_dogs.simliarity_rate)\n",
    "    for name,s_rate in zip(name_list,similarity_list):\n",
    "        print(format(s_rate,'.2%'), \"simliar to\", name)\n",
    "        display(Image(filename=f'img/{name}.jpg'))"
   ]
  },
  {
   "cell_type": "code",
   "execution_count": null,
   "metadata": {},
   "outputs": [],
   "source": [
    "df = pd.read_csv(\"dog_data_clean.csv\", index_col= [0])\n",
    "df = df.reset_index(drop=True)\n",
    "df = df.drop('temp', axis = 1)"
   ]
  },
  {
   "cell_type": "code",
   "execution_count": null,
   "metadata": {},
   "outputs": [],
   "source": [
    "# we will be adding coat type and coat length in the dog data cleaning\n",
    "df['Coat Type'].value_counts()"
   ]
  },
  {
   "cell_type": "code",
   "execution_count": null,
   "metadata": {},
   "outputs": [],
   "source": [
    "df_normalized = df.drop(['color','marking','health','grooming','excercise','training','nutrition','Coat Type','Coat Length'],axis = 1)\n",
    "df_normalized = df_normalized.set_index('dog')"
   ]
  },
  {
   "cell_type": "code",
   "execution_count": null,
   "metadata": {},
   "outputs": [],
   "source": [
    "# Normalize df, so that all the columns will have value from 0 to 1\n",
    "df_normalized=(df_normalized-df_normalized.min())/(df_normalized.max()-df_normalized.min())"
   ]
  },
  {
   "cell_type": "code",
   "execution_count": null,
   "metadata": {},
   "outputs": [],
   "source": [
    "df_similiar_dogs= add_dist_col(df_normalized,'treeing-walker-coonhound')\n",
    "euclidean_by_name(df_similiar_dogs)\n"
   ]
  },
  {
   "cell_type": "code",
   "execution_count": null,
   "metadata": {},
   "outputs": [],
   "source": []
  }
 ],
 "metadata": {
  "kernelspec": {
   "display_name": "Python 3.9.12 ('base')",
   "language": "python",
   "name": "python3"
  },
  "language_info": {
   "codemirror_mode": {
    "name": "ipython",
    "version": 3
   },
   "file_extension": ".py",
   "mimetype": "text/x-python",
   "name": "python",
   "nbconvert_exporter": "python",
   "pygments_lexer": "ipython3",
   "version": "3.9.12"
  },
  "orig_nbformat": 4,
  "vscode": {
   "interpreter": {
    "hash": "29f9ce33f6c884e3855952bfd7c8e1ec7ab3eef33d7abd85991a8524700c864f"
   }
  }
 },
 "nbformat": 4,
 "nbformat_minor": 2
}
