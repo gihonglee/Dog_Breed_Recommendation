{
 "cells": [
  {
   "cell_type": "code",
   "execution_count": null,
   "metadata": {},
   "outputs": [],
   "source": [
    "# Data Manipulation\n",
    "import numpy as np\n",
    "import pandas as pd\n",
    "\n",
    "# Visualization\n",
    "import matplotlib.pyplot as plt\n",
    "from matplotlib.pyplot import figure\n",
    "import seaborn as sns\n",
    "import matplotlib.dates as mdates\n",
    "from sklearn.preprocessing import StandardScaler\n",
    "\n",
    "# Machine Learning / Time Series\n",
    "from scipy import stats\n",
    "import statsmodels.api as sm\n",
    "from factor_analyzer import FactorAnalyzer\n",
    "from IPython.display import Image, display\n",
    "import dog_func\n",
    "\n",
    "# Snowflake & ETC\n",
    "import datetime\n",
    "import copy"
   ]
  },
  {
   "cell_type": "code",
   "execution_count": null,
   "metadata": {},
   "outputs": [],
   "source": [
    "df = pd.read_csv(\"dog_data_clean.csv\", index_col= [0])"
   ]
  },
  {
   "cell_type": "code",
   "execution_count": null,
   "metadata": {},
   "outputs": [],
   "source": [
    "personality = ['Affectionate With Family',\n",
    "       'Good With Young Children', 'Good With Other Dogs',\n",
    "       'Openness To Strangers', 'Playfulness Level',\n",
    "       'Watchdog/Protective Nature', 'Adaptability Level',\n",
    "       'Trainability Level', 'Energy Level', 'Barking Level',\n",
    "       'Mental Stimulation Needs']\n",
    "\n",
    "apperance = ['height', 'weight', 'bmi', 'life', 'Shedding Level',\n",
    "       'Coat Grooming Frequency',  'Coat Length', 'marking']\n",
    "\n",
    "df_custom = df[apperance]"
   ]
  },
  {
   "cell_type": "code",
   "execution_count": null,
   "metadata": {},
   "outputs": [],
   "source": [
    "dog_func.euclidean_by_name(dog_func.add_dist_col(df_custom,'australian-cattle-dog'))"
   ]
  },
  {
   "cell_type": "code",
   "execution_count": null,
   "metadata": {},
   "outputs": [],
   "source": [
    "for j,i in enumerate(df.index):\n",
    "    print(\"--------------------------\")\n",
    "    print(i)\n",
    "    df_similiar_dogs= add_dist_col(df_custom,i)\n",
    "    euclidean_by_name(df_similiar_dogs)\n",
    "    if i == 50:\n",
    "        break\n",
    "\n",
    "# custom"
   ]
  }
 ],
 "metadata": {
  "kernelspec": {
   "display_name": "Python 3.9.12 ('base')",
   "language": "python",
   "name": "python3"
  },
  "language_info": {
   "codemirror_mode": {
    "name": "ipython",
    "version": 3
   },
   "file_extension": ".py",
   "mimetype": "text/x-python",
   "name": "python",
   "nbconvert_exporter": "python",
   "pygments_lexer": "ipython3",
   "version": "3.9.12"
  },
  "orig_nbformat": 4,
  "vscode": {
   "interpreter": {
    "hash": "29f9ce33f6c884e3855952bfd7c8e1ec7ab3eef33d7abd85991a8524700c864f"
   }
  }
 },
 "nbformat": 4,
 "nbformat_minor": 2
}
